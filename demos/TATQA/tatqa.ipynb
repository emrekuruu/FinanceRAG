{
 "cells": [
  {
   "cell_type": "code",
   "execution_count": 1,
   "metadata": {},
   "outputs": [
    {
     "name": "stderr",
     "output_type": "stream",
     "text": [
      "/Users/emrekuru/Developer/FinanceRAG/.venv/lib/python3.12/site-packages/sentence_transformers/cross_encoder/CrossEncoder.py:13: TqdmWarning: IProgress not found. Please update jupyter and ipywidgets. See https://ipywidgets.readthedocs.io/en/stable/user_install.html\n",
      "  from tqdm.autonotebook import tqdm, trange\n"
     ]
    }
   ],
   "source": [
    "import sys\n",
    "import pandas as pd\n",
    "import torch \n",
    "import os \n",
    "\n",
    "sys.path.append(\"../..\")\n",
    "# For retrieval\n",
    "\n",
    "from langchain.vectorstores import Chroma\n",
    "from langchain.embeddings import HuggingFaceEmbeddings\n",
    "from langchain.docstore.document import Document\n",
    "from sentence_transformers import CrossEncoder\n",
    "from langchain.text_splitter import RecursiveCharacterTextSplitter\n",
    "from chunkers import TableExtractor\n",
    "\n",
    "from financerag.tasks import TATQA"
   ]
  },
  {
   "cell_type": "markdown",
   "metadata": {},
   "source": [
    "## Read and Process Data "
   ]
  },
  {
   "cell_type": "code",
   "execution_count": 2,
   "metadata": {},
   "outputs": [
    {
     "name": "stderr",
     "output_type": "stream",
     "text": [
      "A Hugging Face repository is provided. This will override the data_folder, prefix, and *_file arguments.\n"
     ]
    }
   ],
   "source": [
    "task = TATQA()"
   ]
  },
  {
   "cell_type": "code",
   "execution_count": 3,
   "metadata": {},
   "outputs": [],
   "source": [
    "queries = task.queries\n",
    "query_df = pd.DataFrame(queries.values(), index=queries.keys(), columns=[\"query\"])"
   ]
  },
  {
   "cell_type": "code",
   "execution_count": 4,
   "metadata": {},
   "outputs": [],
   "source": [
    "documents = task.corpus\n",
    "documents_df = pd.DataFrame(documents.values(), index=documents.keys(), columns=[\"title\", \"text\"])"
   ]
  },
  {
   "cell_type": "code",
   "execution_count": 5,
   "metadata": {},
   "outputs": [],
   "source": [
    "def extract_paragraph(text):\n",
    "    array = text.split(\"\\n\")\n",
    "    return \"\\n\".join([i for i in array if \"|\" not in i])\n",
    "\n",
    "def extract_table(text):\n",
    "    array = text.split(\"\\n\")\n",
    "    array = [i for i in array if \"-\" in i or \"|\" in i]\n",
    "    array = [i for i in array if \"|\" in i]\n",
    "    table = \"\\n\".join(array)\n",
    "    return table.split(\"\\n\")"
   ]
  },
  {
   "cell_type": "code",
   "execution_count": 6,
   "metadata": {},
   "outputs": [],
   "source": [
    "def clean(row):\n",
    "\n",
    "    return_list = []\n",
    "\n",
    "    for cell in row:\n",
    "\n",
    "        if any(keyword in cell.strip().lower().split(\" \")for keyword in [\"(in\", \"millions\", \"thousands\", \"dollars\", \"note\", \"thousands)\", \"millions)\", \"dollars)\", \"by\", \"ended\", \n",
    "                                                                         \"(millions), (thousands)\", \"(dollars)\", \"millions), (dollars)\", \"(unaudited)\"]):\n",
    "            continue\n",
    "\n",
    "        elif any(keyword in cell.strip().lower().split(\" \")for keyword in [\"december\",\"january\", \"february\", \"march\", \"april\", \"june\", \"july\", \"august\", \"september\", \"october\", \"november\"]):\n",
    "            matched_keywords = [keyword for keyword in cell.strip().lower().split(\" \") if keyword in [\"2016\", \"2017\", \"2018\", \"2019\", \"2020\", \"2021\", \"2022\", \"2023\", \"2024\", \"2025\", \"2026\", \"2027\", \"2028\", \"2029\", \"2030\"]]\n",
    "            return_list.extend(matched_keywords)\n",
    "                 \n",
    "        else:\n",
    "            return_list.append(cell)\n",
    "    \n",
    "    return return_list"
   ]
  },
  {
   "cell_type": "code",
   "execution_count": 7,
   "metadata": {},
   "outputs": [],
   "source": [
    "def parse_table(table):\n",
    "    \n",
    "    header = table[0].split(\"|\")\n",
    "    header = [column.strip() for column in clean(header) if column.strip() != \"\"]\n",
    "        \n",
    "    first_row =  table[2].split(\"|\")\n",
    "    first_row = [column.strip() for column in clean(first_row) if column.strip() != \"\"]\n",
    "\n",
    "    first_row = [ cell.strip() for cell in first_row if cell.strip() != \"\"]\n",
    "    first_row = [ cell.strip() for cell in first_row if  \"--\" not in cell]\n",
    "    \n",
    "    header = [ cell.strip() for cell in header if cell.strip() != \"\"]\n",
    "    header = [ cell.strip() for cell in header if \"--\" not in cell]\n",
    "\n",
    "    num_cols = len(table[-1].split(\"|\")) - 1\n",
    "\n",
    "    start = 2\n",
    "\n",
    "    print(header, first_row)\n",
    "    print(num_cols  )\n",
    "    \n",
    "    if len(header) == num_cols or len(header) == num_cols + 1:\n",
    "        columns = header\n",
    "    \n",
    "    elif len(first_row) == num_cols or len(first_row) == num_cols + 1:\n",
    "        columns = first_row\n",
    "        start = 3\n",
    "\n",
    "    else:\n",
    "        i = 3\n",
    "        columns = clean(table[3].split(\"|\"))\n",
    "        while columns == []:\n",
    "            columns = [column.strip() for column in clean(table[i].split(\"|\")) if column != \"\"]\n",
    "            columns = [column.strip() for column in clean(table[i].split(\"|\")) if \"--\" not in column]\n",
    "            i += 1\n",
    "        \n",
    "        start = i+1\n",
    "\n",
    "    rows = []\n",
    "\n",
    "    for row in table[start:]:\n",
    "        row = row.split(\"|\")\n",
    "        row = [ cell.strip() for cell in row  ]\n",
    "        row[1:] = clean(row[1:])\n",
    "        rows.append(row)\n",
    "    \n",
    "    columns = [i for i in range(num_cols - len(columns) + 1)] + columns\n",
    "    table = pd.DataFrame(rows, columns=columns)\n",
    "    table.replace(\"\", pd.NA, inplace=True)\n",
    "    table.set_index(columns[0], inplace=True)\n",
    "    table.index.name = None\n",
    "    return table"
   ]
  },
  {
   "cell_type": "code",
   "execution_count": 8,
   "metadata": {},
   "outputs": [
    {
     "name": "stdout",
     "output_type": "stream",
     "text": [
      "                                           |         | Years Ended December 31, |        \n",
      "------------------------------------------ | ------- | ------------------------ | -------\n",
      "                                           | 2019    | 2018                     | 2017   \n",
      "Balances at beginning of period            | $2,084  | $2,312                   | $2,329 \n",
      "Warranty acquired in business combinations | 4,818   | 305                      | 118    \n",
      "Increases to accruals                      | 1,752   | 1,606                    | 2,029  \n",
      "Warranty expenditures                      | (2,249) | (2,127)                  | (2,184)\n",
      "Effect of changes in exchange rates        | 8       | (12)                     | 20     \n",
      "Balances at end of period                  | $6,413  | $2,084                   | $2,312 \n",
      "[] ['2019', '2018', '2017']\n",
      "3\n"
     ]
    },
    {
     "data": {
      "text/html": [
       "<div>\n",
       "<style scoped>\n",
       "    .dataframe tbody tr th:only-of-type {\n",
       "        vertical-align: middle;\n",
       "    }\n",
       "\n",
       "    .dataframe tbody tr th {\n",
       "        vertical-align: top;\n",
       "    }\n",
       "\n",
       "    .dataframe thead th {\n",
       "        text-align: right;\n",
       "    }\n",
       "</style>\n",
       "<table border=\"1\" class=\"dataframe\">\n",
       "  <thead>\n",
       "    <tr style=\"text-align: right;\">\n",
       "      <th></th>\n",
       "      <th>2019</th>\n",
       "      <th>2018</th>\n",
       "      <th>2017</th>\n",
       "    </tr>\n",
       "  </thead>\n",
       "  <tbody>\n",
       "    <tr>\n",
       "      <th>Balances at beginning of period</th>\n",
       "      <td>$2,084</td>\n",
       "      <td>$2,312</td>\n",
       "      <td>$2,329</td>\n",
       "    </tr>\n",
       "    <tr>\n",
       "      <th>Warranty acquired in business combinations</th>\n",
       "      <td>4,818</td>\n",
       "      <td>305</td>\n",
       "      <td>118</td>\n",
       "    </tr>\n",
       "    <tr>\n",
       "      <th>Increases to accruals</th>\n",
       "      <td>1,752</td>\n",
       "      <td>1,606</td>\n",
       "      <td>2,029</td>\n",
       "    </tr>\n",
       "    <tr>\n",
       "      <th>Warranty expenditures</th>\n",
       "      <td>(2,249)</td>\n",
       "      <td>(2,127)</td>\n",
       "      <td>(2,184)</td>\n",
       "    </tr>\n",
       "    <tr>\n",
       "      <th>Effect of changes in exchange rates</th>\n",
       "      <td>8</td>\n",
       "      <td>(12)</td>\n",
       "      <td>20</td>\n",
       "    </tr>\n",
       "    <tr>\n",
       "      <th>Balances at end of period</th>\n",
       "      <td>$6,413</td>\n",
       "      <td>$2,084</td>\n",
       "      <td>$2,312</td>\n",
       "    </tr>\n",
       "  </tbody>\n",
       "</table>\n",
       "</div>"
      ],
      "text/plain": [
       "                                               2019     2018     2017\n",
       "Balances at beginning of period              $2,084   $2,312   $2,329\n",
       "Warranty acquired in business combinations    4,818      305      118\n",
       "Increases to accruals                         1,752    1,606    2,029\n",
       "Warranty expenditures                       (2,249)  (2,127)  (2,184)\n",
       "Effect of changes in exchange rates               8     (12)       20\n",
       "Balances at end of period                    $6,413   $2,084   $2,312"
      ]
     },
     "execution_count": 8,
     "metadata": {},
     "output_type": "execute_result"
    }
   ],
   "source": [
    "import random\n",
    "\n",
    "id_ = random.randint(0, len(documents_df) - 1)\n",
    "text = documents_df.iloc[id_][\"text\"]\n",
    "doc_id = documents_df.index[id_]\n",
    "\n",
    "table = extract_table(text)\n",
    "print(\"\\n\".join(table))\n",
    "table = parse_table(table)\n",
    "table"
   ]
  }
 ],
 "metadata": {
  "kernelspec": {
   "display_name": ".venv",
   "language": "python",
   "name": "python3"
  },
  "language_info": {
   "codemirror_mode": {
    "name": "ipython",
    "version": 3
   },
   "file_extension": ".py",
   "mimetype": "text/x-python",
   "name": "python",
   "nbconvert_exporter": "python",
   "pygments_lexer": "ipython3",
   "version": "3.12.4"
  }
 },
 "nbformat": 4,
 "nbformat_minor": 2
}
