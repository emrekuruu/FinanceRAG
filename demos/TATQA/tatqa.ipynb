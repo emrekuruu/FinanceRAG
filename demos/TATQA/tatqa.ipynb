{
 "cells": [
  {
   "cell_type": "code",
   "execution_count": 2,
   "metadata": {},
   "outputs": [
    {
     "name": "stderr",
     "output_type": "stream",
     "text": [
      "/Users/emrekuru/Developer/FinanceRAG/.venv/lib/python3.12/site-packages/tqdm/auto.py:21: TqdmWarning: IProgress not found. Please update jupyter and ipywidgets. See https://ipywidgets.readthedocs.io/en/stable/user_install.html\n",
      "  from .autonotebook import tqdm as notebook_tqdm\n"
     ]
    }
   ],
   "source": [
    "import sys\n",
    "import os\n",
    "sys.path.append(os.path.abspath('../..'))\n",
    "\n",
    "from financerag.tasks import TATQA, MultiHiertt\n",
    "\n",
    "import numpy as np \n",
    "import pandas as pd\n",
    "import torch\n",
    "\n",
    "# For retrieval\n",
    "from langchain.vectorstores import Chroma\n",
    "from langchain.embeddings import HuggingFaceEmbeddings\n",
    "from langchain.docstore.document import Document\n",
    "from sentence_transformers import CrossEncoder\n",
    "from langchain.text_splitter import RecursiveCharacterTextSplitter\n",
    "from chunkers import TableExtractor\n",
    "# For generation\n",
    "from langchain.vectorstores import Chroma\n",
    "from langchain import hub\n",
    "from langchain_openai import OpenAI\n",
    "from langchain.agents import Tool, create_react_agent, AgentExecutor\n",
    "from typing import Optional, Union, List, Tuple"
   ]
  },
  {
   "cell_type": "code",
   "execution_count": 4,
   "metadata": {},
   "outputs": [],
   "source": [
    "import warnings\n",
    "\n",
    "warnings.filterwarnings('ignore')"
   ]
  },
  {
   "cell_type": "markdown",
   "metadata": {},
   "source": [
    "## Read Data"
   ]
  },
  {
   "cell_type": "code",
   "execution_count": 5,
   "metadata": {},
   "outputs": [
    {
     "name": "stderr",
     "output_type": "stream",
     "text": [
      "A Hugging Face repository is provided. This will override the data_folder, prefix, and *_file arguments.\n"
     ]
    }
   ],
   "source": [
    "task = TATQA()"
   ]
  },
  {
   "cell_type": "code",
   "execution_count": 6,
   "metadata": {},
   "outputs": [
    {
     "data": {
      "text/plain": [
       "(1663, 1)"
      ]
     },
     "execution_count": 6,
     "metadata": {},
     "output_type": "execute_result"
    }
   ],
   "source": [
    "queries = task.queries\n",
    "query_df = pd.DataFrame(queries.values(), index=queries.keys(), columns=[\"query\"])\n",
    "query_df.shape"
   ]
  },
  {
   "cell_type": "code",
   "execution_count": 8,
   "metadata": {},
   "outputs": [
    {
     "data": {
      "text/plain": [
       "(2756, 2)"
      ]
     },
     "execution_count": 8,
     "metadata": {},
     "output_type": "execute_result"
    }
   ],
   "source": [
    "documents = task.corpus\n",
    "documents_df = pd.DataFrame(documents.values(), index=documents.keys(), columns=[\"title\", \"text\"])\n",
    "documents_df.shape"
   ]
  },
  {
   "cell_type": "markdown",
   "metadata": {},
   "source": [
    "## Initiliaze Database"
   ]
  },
  {
   "cell_type": "code",
   "execution_count": 7,
   "metadata": {},
   "outputs": [],
   "source": [
    "import json\n",
    "\n",
    "tables = json.load(open(\"tables.json\"))"
   ]
  },
  {
   "cell_type": "code",
   "execution_count": 8,
   "metadata": {},
   "outputs": [],
   "source": [
    "def extract_paragraph(text):\n",
    "    array = text.split(\"\\n\")\n",
    "    return \"\\n\".join([i for i in array if \"-\" not in i and \"|\" not in i])"
   ]
  },
  {
   "cell_type": "code",
   "execution_count": 9,
   "metadata": {},
   "outputs": [
    {
     "name": "stdout",
     "output_type": "stream",
     "text": [
      "Loaded existing ChromaDB from .chroma\n"
     ]
    }
   ],
   "source": [
    "embedder = HuggingFaceEmbeddings(model_name=\"msmarco-distilbert-base-v4\")\n",
    "\n",
    "persist_directory = \".chroma\"\n",
    "\n",
    "text_splitter = RecursiveCharacterTextSplitter(\n",
    "    chunk_size=256,  \n",
    "    chunk_overlap=32 \n",
    ")\n",
    "\n",
    "docs = []\n",
    "for id, text in documents_df.text.items():\n",
    "    text = extract_paragraph(text)\n",
    "    chunks = text_splitter.split_text(text)\n",
    "    \n",
    "    for i, chunk in enumerate(chunks):\n",
    "        try:\n",
    "            doc = Document(page_content=chunk, metadata={\"id\": str(id), \"chunk_index\": i, \"table\" : json.dumps(tables[str(id)])})\n",
    "        except:\n",
    "            doc = Document(page_content=chunk, metadata={\"id\": str(id), \"chunk_index\": i})\n",
    "        docs.append(doc)\n",
    "\n",
    "if os.path.exists(persist_directory):\n",
    "    chroma_db = Chroma(persist_directory=persist_directory, embedding_function=embedder)\n",
    "    print(\"Loaded existing ChromaDB from .chroma\")\n",
    "else:\n",
    "    chroma_db = Chroma.from_documents(\n",
    "        documents=docs,\n",
    "        embedding=embedder,\n",
    "        persist_directory=persist_directory,  \n",
    "    )\n",
    "    print(\"Created new ChromaDB and saved to .chroma\")\n"
   ]
  },
  {
   "cell_type": "markdown",
   "metadata": {},
   "source": [
    "## Retrieve"
   ]
  },
  {
   "cell_type": "code",
   "execution_count": 10,
   "metadata": {},
   "outputs": [],
   "source": [
    "retriever = chroma_db.as_retriever(search_kwargs={\"k\": 100})"
   ]
  },
  {
   "cell_type": "code",
   "execution_count": 11,
   "metadata": {},
   "outputs": [],
   "source": [
    "retrieved_df = pd.DataFrame([[{} ] for _ in query_df.index], index=query_df.index, columns=[\"Documents\"])"
   ]
  },
  {
   "cell_type": "code",
   "execution_count": null,
   "metadata": {},
   "outputs": [],
   "source": [
    "for idx, query in query_df[\"query\"].items():\n",
    "\n",
    "    retrieved = retriever.invoke(query)\n",
    "\n",
    "    retrieved = {\n",
    "        str(doc.metadata[\"id\"]):  1\n",
    "        for doc in retrieved\n",
    "    }\n",
    "    retrieved_df.loc[idx][\"Documents\"] = retrieved\n",
    "\n",
    "retrieved_results = retrieved_df[\"Documents\"].to_dict()"
   ]
  },
  {
   "cell_type": "markdown",
   "metadata": {},
   "source": [
    "## Re-Rank"
   ]
  },
  {
   "cell_type": "code",
   "execution_count": 15,
   "metadata": {},
   "outputs": [],
   "source": [
    "cross_encoder = CrossEncoder(\"cross-encoder/ms-marco-MiniLM-L-6-v2\")\n",
    "\n",
    "def sigmoid(x):\n",
    "    return 1 / (1 + torch.exp(-torch.tensor(x)))"
   ]
  },
  {
   "cell_type": "code",
   "execution_count": null,
   "metadata": {},
   "outputs": [],
   "source": [
    "for idx, query in query_df[\"query\"].items():\n",
    "    for doc_id in retrieved_results[idx]:\n",
    "\n",
    "        raw_score = cross_encoder.predict((query, documents_df.loc[doc_id].text))\n",
    "        normalized_score = sigmoid(raw_score).item()\n",
    "\n",
    "        retrieved_results[idx][doc_id] = normalized_score\n",
    "    \n",
    "    retrieved_results[idx] = dict(sorted(retrieved_results[idx].items(), key=lambda item: item[1], reverse=True))"
   ]
  },
  {
   "cell_type": "markdown",
   "metadata": {},
   "source": [
    "## Evaluate Retrieval"
   ]
  },
  {
   "cell_type": "code",
   "execution_count": null,
   "metadata": {},
   "outputs": [],
   "source": [
    "qrels = pd.read_csv('../../data/resources/tatqa_qrels.tsv', sep='\\t')"
   ]
  },
  {
   "cell_type": "code",
   "execution_count": null,
   "metadata": {},
   "outputs": [],
   "source": [
    "qrels_dict = {}\n",
    "for index, row in qrels.iterrows():\n",
    "    key = row['query_id']\n",
    "    if key not in qrels_dict:\n",
    "        qrels_dict[key] = {}\n",
    "    qrels_dict[key][row['corpus_id']] = row['score']"
   ]
  },
  {
   "cell_type": "code",
   "execution_count": null,
   "metadata": {},
   "outputs": [],
   "source": [
    "k_values = [10, 50, 100]\n",
    "results = task.evaluate(qrels=qrels_dict, results=retrieved_results, k_values=k_values)"
   ]
  },
  {
   "cell_type": "code",
   "execution_count": null,
   "metadata": {},
   "outputs": [],
   "source": [
    "metrics_df = pd.DataFrame(index=k_values, columns=[\"MAP\", \"NDCG\", \"P@K\", \"R@K\"])\n",
    "\n",
    "metrics_df[\"MAP\"] = [results[1][f\"MAP@{k}\"] for k in k_values]\n",
    "metrics_df[\"NDCG\"] = [results[0][f\"NDCG@{k}\"] for k in k_values]\n",
    "metrics_df[\"P@K\"] = [results[3][f\"P@{k}\"] for k in k_values]\n",
    "metrics_df[\"R@K\"] = [results[2][f\"Recall@{k}\"] for k in k_values]\n",
    "\n",
    "metrics_df"
   ]
  },
  {
   "cell_type": "markdown",
   "metadata": {},
   "source": [
    "## Generate"
   ]
  },
  {
   "cell_type": "code",
   "execution_count": 40,
   "metadata": {},
   "outputs": [],
   "source": [
    "# Helper Methods\n",
    "\n",
    "def format_retrieved_docs(docs):\n",
    "    docs = docs[:5]\n",
    "    if docs:\n",
    "        try:\n",
    "            return \"\\n\\n\".join([f\"\\n{doc.page_content}\\n{doc.metadata[\"table\"]}\" for doc, score in docs])\n",
    "        except:\n",
    "            print(\"No table found\")\n",
    "            return \"\\n\\n\".join([doc.page_content for doc, score in docs])\n",
    "    else:\n",
    "        return \"No relevant documents found.\"\n",
    "    \n",
    "def re_rank_docs(query, docs, cross_encoder):\n",
    "    re_ranked_docs = []\n",
    "    for doc in docs:\n",
    "        raw_score = cross_encoder.predict((query, doc.page_content))\n",
    "        normalized_score = sigmoid(raw_score).item()\n",
    "        re_ranked_docs.append((doc, normalized_score))\n",
    "    return sorted(re_ranked_docs, key=lambda item: item[1], reverse=True)\n",
    "\n",
    "def retrieve_action(query, retriever, cross_encoder):\n",
    "    retrieved = retriever.invoke(query)\n",
    "    re_ranked = re_rank_docs(query, retrieved, cross_encoder)\n",
    "    formatted_docs = format_retrieved_docs(re_ranked)\n",
    "    return formatted_docs\n"
   ]
  },
  {
   "cell_type": "code",
   "execution_count": 41,
   "metadata": {},
   "outputs": [],
   "source": [
    "# Wrap the retrieval tool\n",
    "retrieve_tool = Tool(\n",
    "    name=\"Document Retriever\",\n",
    "    func=lambda query: retrieve_action(query, retriever, cross_encoder),\n",
    "    description=\"Retrieve documents relevant to the query.\"\n",
    ")\n",
    "\n",
    "# Step 5: Create the ReAct Agent using the LLM and retrieval tool\n",
    "tools = [retrieve_tool]\n",
    "\n",
    "prompt = hub.pull(\"hwchase17/react\")\n",
    "\n",
    "\n",
    "# Choose the LLM to use\n",
    "llm = OpenAI()\n",
    "\n",
    "# Construct the ReAct agent\n",
    "agent = create_react_agent(llm, tools, prompt)\n",
    "\n",
    "agent_executor = AgentExecutor(agent=agent, tools=tools, verbose=True)"
   ]
  },
  {
   "cell_type": "code",
   "execution_count": null,
   "metadata": {},
   "outputs": [],
   "source": [
    "agent_executor.invoke({\"input\": query_df.loc[\"q1a741ac6\"][\"query\"]})"
   ]
  }
 ],
 "metadata": {
  "kernelspec": {
   "display_name": ".venv",
   "language": "python",
   "name": "python3"
  },
  "language_info": {
   "codemirror_mode": {
    "name": "ipython",
    "version": 3
   },
   "file_extension": ".py",
   "mimetype": "text/x-python",
   "name": "python",
   "nbconvert_exporter": "python",
   "pygments_lexer": "ipython3",
   "version": "3.12.4"
  }
 },
 "nbformat": 4,
 "nbformat_minor": 2
}
