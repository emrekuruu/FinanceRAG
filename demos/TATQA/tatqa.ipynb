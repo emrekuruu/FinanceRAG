{
 "cells": [
  {
   "cell_type": "code",
   "execution_count": 3,
   "metadata": {},
   "outputs": [],
   "source": [
    "import sys\n",
    "import os\n",
    "sys.path.append(os.path.abspath('../..'))\n",
    "\n",
    "from financerag.tasks import TATQA\n",
    "\n",
    "import numpy as np \n",
    "import pandas as pd\n",
    "import torch\n",
    "\n",
    "# For retrieval\n",
    "from langchain.vectorstores import Chroma\n",
    "from langchain.embeddings import HuggingFaceEmbeddings\n",
    "from langchain.docstore.document import Document\n",
    "from sentence_transformers import CrossEncoder\n",
    "from langchain.text_splitter import RecursiveCharacterTextSplitter\n",
    "\n",
    "# For generation\n",
    "from langchain.prompts import ChatPromptTemplate\n",
    "from langchain_core.runnables import RunnablePassthrough\n",
    "from langchain_core.output_parsers import StrOutputParser\n",
    "from langchain.vectorstores import Chroma\n",
    "from transformers import pipeline\n",
    "from langchain.llms import HuggingFacePipeline"
   ]
  },
  {
   "cell_type": "code",
   "execution_count": 4,
   "metadata": {},
   "outputs": [],
   "source": [
    "import warnings\n",
    "\n",
    "warnings.filterwarnings('ignore')"
   ]
  },
  {
   "cell_type": "markdown",
   "metadata": {},
   "source": [
    "## Read Data"
   ]
  },
  {
   "cell_type": "code",
   "execution_count": 5,
   "metadata": {},
   "outputs": [
    {
     "name": "stderr",
     "output_type": "stream",
     "text": [
      "A Hugging Face repository is provided. This will override the data_folder, prefix, and *_file arguments.\n"
     ]
    }
   ],
   "source": [
    "task = TATQA()"
   ]
  },
  {
   "cell_type": "code",
   "execution_count": 6,
   "metadata": {},
   "outputs": [
    {
     "data": {
      "text/plain": [
       "query    What was the Net Income (Loss) in 2019?\n",
       "Name: q1a72ef98, dtype: object"
      ]
     },
     "execution_count": 6,
     "metadata": {},
     "output_type": "execute_result"
    }
   ],
   "source": [
    "queries = task.queries\n",
    "query_df = pd.DataFrame(queries.values(), index=queries.keys(), columns=[\"query\"])\n",
    "query_df.iloc[1]"
   ]
  },
  {
   "cell_type": "code",
   "execution_count": 7,
   "metadata": {},
   "outputs": [],
   "source": [
    "documents = task.corpus\n",
    "documents_df = pd.DataFrame(documents.values(), index=documents.keys(), columns=[\"title\", \"text\"])\n",
    "documents_df.loc[\"d1a711510\"].to_csv(\"d1a711510.txt\", index=False)"
   ]
  },
  {
   "cell_type": "code",
   "execution_count": 8,
   "metadata": {},
   "outputs": [
    {
     "data": {
      "image/png": "[encoded data removed]",
      "text/plain": [
       "<Figure size 1000x600 with 1 Axes>"
      ]
     },
     "metadata": {},
     "output_type": "display_data"
    }
   ],
   "source": [
    "import matplotlib.pyplot as plt\n",
    "\n",
    "# Calculate the length of each text\n",
    "documents_df['text_length'] = documents_df['text'].apply(len)\n",
    "\n",
    "# Plot the histogram\n",
    "plt.figure(figsize=(10, 6))\n",
    "plt.hist(documents_df['text_length'], bins=30, edgecolor='k', alpha=0.7)\n",
    "plt.title('Histogram of Document Lengths')\n",
    "plt.xlabel('Text Length')\n",
    "plt.ylabel('Frequency')\n",
    "plt.show()"
   ]
  },
  {
   "cell_type": "markdown",
   "metadata": {},
   "source": [
    "## Initiliaze Database"
   ]
  },
  {
   "cell_type": "code",
   "execution_count": 9,
   "metadata": {},
   "outputs": [
    {
     "name": "stdout",
     "output_type": "stream",
     "text": [
      "Loaded existing ChromaDB from .chroma\n"
     ]
    }
   ],
   "source": [
    "embedder = HuggingFaceEmbeddings(model_name=\"msmarco-distilbert-base-v4\")\n",
    "\n",
    "persist_directory = \".chroma\"\n",
    "\n",
    "text_splitter = RecursiveCharacterTextSplitter(\n",
    "    chunk_size=256,  # Define chunk size\n",
    "    chunk_overlap=32  # Define overlap to maintain context between chunks\n",
    ")\n",
    "\n",
    "docs = []\n",
    "for id, text in documents_df.text.items():\n",
    "    # Split the document into chunks\n",
    "    chunks = text_splitter.split_text(text)\n",
    "    \n",
    "    # Create a Document object for each chunk but store the parent document ID in the metadata\n",
    "    for i, chunk in enumerate(chunks):\n",
    "        doc = Document(page_content=chunk, metadata={\"id\": str(id), \"chunk_index\": i})\n",
    "        docs.append(doc)\n",
    "\n",
    "if os.path.exists(persist_directory):\n",
    "    # Load the existing ChromaDB\n",
    "    chroma_db = Chroma(persist_directory=persist_directory, embedding_function=embedder)\n",
    "    print(\"Loaded existing ChromaDB from .chroma\")\n",
    "else:\n",
    "    # Create ChromaDB and store the documents\n",
    "    chroma_db = Chroma.from_documents(\n",
    "        documents=docs,\n",
    "        embedding=embedder,\n",
    "        persist_directory=persist_directory,  \n",
    "    )\n",
    "    print(\"Created new ChromaDB and saved to .chroma\")\n"
   ]
  },
  {
   "cell_type": "markdown",
   "metadata": {},
   "source": [
    "## Retrieve"
   ]
  },
  {
   "cell_type": "code",
   "execution_count": 10,
   "metadata": {},
   "outputs": [],
   "source": [
    "retriever = chroma_db.as_retriever(search_kwargs={\"k\": 100})"
   ]
  },
  {
   "cell_type": "code",
   "execution_count": 9,
   "metadata": {},
   "outputs": [],
   "source": [
    "retrieved_df = pd.DataFrame([[{} ] for _ in query_df.index], index=query_df.index, columns=[\"Documents\"])"
   ]
  },
  {
   "cell_type": "code",
   "execution_count": 10,
   "metadata": {},
   "outputs": [],
   "source": [
    "for idx, query in query_df[\"query\"].items():\n",
    "\n",
    "    retrieved = retriever.invoke(query)\n",
    "\n",
    "    retrieved = {\n",
    "        str(doc.metadata[\"id\"]):  1\n",
    "        for doc in retrieved\n",
    "    }\n",
    "    retrieved_df.loc[idx][\"Documents\"] = retrieved\n",
    "\n",
    "retrieved_results = retrieved_df[\"Documents\"].to_dict()"
   ]
  },
  {
   "cell_type": "markdown",
   "metadata": {},
   "source": [
    "## Re-Rank"
   ]
  },
  {
   "cell_type": "code",
   "execution_count": 11,
   "metadata": {},
   "outputs": [],
   "source": [
    "cross_encoder = CrossEncoder(\"cross-encoder/ms-marco-MiniLM-L-6-v2\")\n",
    "\n",
    "def sigmoid(x):\n",
    "    return 1 / (1 + torch.exp(-torch.tensor(x)))"
   ]
  },
  {
   "cell_type": "code",
   "execution_count": null,
   "metadata": {},
   "outputs": [],
   "source": [
    "for idx, query in query_df[\"query\"].items():\n",
    "    for doc_id in retrieved_results[idx]:\n",
    "\n",
    "        raw_score = cross_encoder.predict((query, documents_df.loc[doc_id].text))\n",
    "        normalized_score = sigmoid(raw_score).item()\n",
    "\n",
    "        retrieved_results[idx][doc_id] = normalized_score\n",
    "    \n",
    "    retrieved_results[idx] = dict(sorted(retrieved_results[idx].items(), key=lambda item: item[1], reverse=True))"
   ]
  },
  {
   "cell_type": "markdown",
   "metadata": {},
   "source": [
    "## Evaluate Retrieval"
   ]
  },
  {
   "cell_type": "code",
   "execution_count": null,
   "metadata": {},
   "outputs": [],
   "source": [
    "qrels = pd.read_csv('../../data/resources/tatqa_qrels.tsv', sep='\\t')\n",
    "qrels"
   ]
  },
  {
   "cell_type": "code",
   "execution_count": 20,
   "metadata": {},
   "outputs": [],
   "source": [
    "qrels_dict = {}\n",
    "for index, row in qrels.iterrows():\n",
    "    key = row['query_id']\n",
    "    if key not in qrels_dict:\n",
    "        qrels_dict[key] = {}\n",
    "    qrels_dict[key][row['corpus_id']] = row['score']"
   ]
  },
  {
   "cell_type": "code",
   "execution_count": null,
   "metadata": {},
   "outputs": [],
   "source": [
    "k_values = [10, 50, 100]\n",
    "results = task.evaluate(qrels=qrels_dict, results=retrieved_results, k_values=k_values)"
   ]
  },
  {
   "cell_type": "code",
   "execution_count": null,
   "metadata": {},
   "outputs": [],
   "source": [
    "metrics_df = pd.DataFrame(index=k_values, columns=[\"MAP\", \"NDCG\", \"P@K\", \"R@K\"])\n",
    "\n",
    "metrics_df[\"MAP\"] = [results[1][f\"MAP@{k}\"] for k in k_values]\n",
    "metrics_df[\"NDCG\"] = [results[0][f\"NDCG@{k}\"] for k in k_values]\n",
    "metrics_df[\"P@K\"] = [results[3][f\"P@{k}\"] for k in k_values]\n",
    "metrics_df[\"R@K\"] = [results[2][f\"Recall@{k}\"] for k in k_values]\n",
    "\n",
    "metrics_df"
   ]
  },
  {
   "cell_type": "markdown",
   "metadata": {},
   "source": [
    "## Generate"
   ]
  },
  {
   "cell_type": "code",
   "execution_count": 17,
   "metadata": {},
   "outputs": [
    {
     "name": "stderr",
     "output_type": "stream",
     "text": [
      "Hardware accelerator e.g. GPU is available in the environment, but no `device` argument is passed to the `Pipeline` object. Model will be on CPU.\n"
     ]
    }
   ],
   "source": [
    "model_name = \"google/flan-t5-small\"\n",
    "pipe = pipeline(\"text2text-generation\", model=model_name)  \n",
    "model = HuggingFacePipeline(pipeline=pipe)"
   ]
  },
  {
   "cell_type": "code",
   "execution_count": 44,
   "metadata": {},
   "outputs": [],
   "source": [
    "# Helper Methods\n",
    "\n",
    "def format_retrieved_docs(docs):\n",
    "    docs = docs[:5]\n",
    "    print(\"Document IDs: \", [doc.metadata[\"id\"] for doc, score in docs])\n",
    "    if docs:\n",
    "        return \"\\n\\n\".join([f\"\\n{doc.page_content}\" for doc, score in docs])\n",
    "    else:\n",
    "        return \"No relevant documents found.\"\n",
    "    \n",
    "def re_rank_docs(query, docs):\n",
    "    re_ranked_docs = []\n",
    "    for doc in docs:\n",
    "        raw_score = cross_encoder.predict((query, doc.page_content))\n",
    "        normalized_score = sigmoid(raw_score).item()\n",
    "        re_ranked_docs.append((doc, normalized_score))\n",
    "    return sorted(re_ranked_docs, key=lambda item: item[1], reverse=True)"
   ]
  },
  {
   "cell_type": "code",
   "execution_count": 45,
   "metadata": {},
   "outputs": [],
   "source": [
    "template = \"\"\"Answer the following question based on the context:\n",
    "Context: {context}\n",
    "\n",
    "Question: {question}\n",
    "\"\"\"\n",
    "prompt = ChatPromptTemplate.from_template(template)\n",
    "\n",
    "chain = (\n",
    "    RunnablePassthrough.assign(\n",
    "        context=lambda x: format_retrieved_docs(re_rank_docs( x[\"question\"], retriever.get_relevant_documents(x[\"question\"]))),  \n",
    "        question=lambda x: x[\"question\"] \n",
    "    )\n",
    "    | prompt  \n",
    "    | model  \n",
    "    | StrOutputParser()  \n",
    ")"
   ]
  },
  {
   "cell_type": "code",
   "execution_count": 46,
   "metadata": {},
   "outputs": [
    {
     "name": "stdout",
     "output_type": "stream",
     "text": [
      "Question:  What are the balances (without Adoption of Topic 606, in millions) of inventories and other accrued liabilities, respectively?\n",
      "Document IDs:  ['d1a715854', 'd1a725f60', 'd1b3a81f2', 'd1b37c246', 'd1b363dc2']\n",
      "Answer: liabilities\n"
     ]
    }
   ],
   "source": [
    "# Step 4: Example usage (run the pipeline)\n",
    "question = query_df.loc[\"q1a711416\"][\"query\"]\n",
    "print(\"Question: \", question)\n",
    "result = chain.invoke({\"question\": question})\n",
    "print(f\"Answer: {result}\")"
   ]
  },
  {
   "cell_type": "code",
   "execution_count": null,
   "metadata": {},
   "outputs": [],
   "source": []
  }
 ],
 "metadata": {
  "kernelspec": {
   "display_name": ".venv",
   "language": "python",
   "name": "python3"
  },
  "language_info": {
   "codemirror_mode": {
    "name": "ipython",
    "version": 3
   },
   "file_extension": ".py",
   "mimetype": "text/x-python",
   "name": "python",
   "nbconvert_exporter": "python",
   "pygments_lexer": "ipython3",
   "version": "3.12.4"
  }
 },
 "nbformat": 4,
 "nbformat_minor": 2
}
