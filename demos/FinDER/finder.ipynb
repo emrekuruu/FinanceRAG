{
 "cells": [
  {
   "cell_type": "code",
   "execution_count": 1,
   "metadata": {},
   "outputs": [
    {
     "name": "stderr",
     "output_type": "stream",
     "text": [
      "/Users/emrekuru/Developer/FinanceRAG/.venv/lib/python3.12/site-packages/tqdm/auto.py:21: TqdmWarning: IProgress not found. Please update jupyter and ipywidgets. See https://ipywidgets.readthedocs.io/en/stable/user_install.html\n",
      "  from .autonotebook import tqdm as notebook_tqdm\n"
     ]
    }
   ],
   "source": [
    "import sys\n",
    "import os\n",
    "sys.path.append(os.path.abspath('../..'))\n",
    "\n",
    "from financerag.tasks import FinDER\n",
    "\n",
    "import numpy as np \n",
    "import pandas as pd\n",
    "import torch\n",
    "\n",
    "# For retrieval\n",
    "from langchain.vectorstores import Chroma\n",
    "from langchain.embeddings import HuggingFaceEmbeddings\n",
    "from langchain.docstore.document import Document\n",
    "from sentence_transformers import CrossEncoder\n",
    "from langchain.text_splitter import RecursiveCharacterTextSplitter\n",
    "from chunkers import TableSplitter, SummarizeSplitter, KeyConceptSplitter\n",
    "\n",
    "# For generation\n",
    "from langchain.vectorstores import Chroma\n",
    "from langchain import hub\n",
    "from langchain_openai import OpenAI\n",
    "from langchain.agents import Tool, create_react_agent, AgentExecutor"
   ]
  },
  {
   "cell_type": "code",
   "execution_count": 2,
   "metadata": {},
   "outputs": [],
   "source": [
    "import warnings\n",
    "\n",
    "warnings.filterwarnings('ignore')"
   ]
  },
  {
   "cell_type": "markdown",
   "metadata": {},
   "source": [
    "## Read Data"
   ]
  },
  {
   "cell_type": "code",
   "execution_count": 3,
   "metadata": {},
   "outputs": [
    {
     "name": "stderr",
     "output_type": "stream",
     "text": [
      "A Hugging Face repository is provided. This will override the data_folder, prefix, and *_file arguments.\n"
     ]
    }
   ],
   "source": [
    "task = FinDER()"
   ]
  },
  {
   "cell_type": "code",
   "execution_count": 4,
   "metadata": {},
   "outputs": [],
   "source": [
    "queries = task.queries\n",
    "query_df = pd.DataFrame(queries.values(), index=queries.keys(), columns=[\"query\"])"
   ]
  },
  {
   "cell_type": "code",
   "execution_count": 5,
   "metadata": {},
   "outputs": [],
   "source": [
    "documents = task.corpus\n",
    "documents_df = pd.DataFrame(documents.values(), index=documents.keys(), columns=[\"title\", \"text\"])\n",
    "documents_df[\"text\"] = documents_df[\"title\"] + \" \" + documents_df[\"text\"]\n",
    "documents_df.drop(columns=[\"title\"], inplace=True)"
   ]
  },
  {
   "cell_type": "markdown",
   "metadata": {},
   "source": [
    "## Initiliaze Database"
   ]
  },
  {
   "cell_type": "code",
   "execution_count": 6,
   "metadata": {},
   "outputs": [],
   "source": [
    "text_splitter = RecursiveCharacterTextSplitter()"
   ]
  },
  {
   "cell_type": "code",
   "execution_count": 7,
   "metadata": {},
   "outputs": [
    {
     "name": "stdout",
     "output_type": "stream",
     "text": [
      "Created new ChromaDB and saved to .chroma\n"
     ]
    }
   ],
   "source": [
    "embedder = HuggingFaceEmbeddings(model_name=\"msmarco-distilbert-base-v4\")\n",
    "\n",
    "persist_directory = \".chroma\"\n",
    "\n",
    "docs = []\n",
    "\n",
    "for id, text in documents_df.text.items():\n",
    "    # Split the document into chunks\n",
    "    chunks = text_splitter.split_text(text)\n",
    "    \n",
    "    for i, chunk in enumerate(chunks):\n",
    "        doc = Document(page_content=chunk, metadata={\"id\": str(id), \"chunk_index\": i})\n",
    "        docs.append(doc)\n",
    "\n",
    "if os.path.exists(persist_directory):\n",
    "    # Load the existing ChromaDB\n",
    "    chroma_db = Chroma(persist_directory=persist_directory, embedding_function=embedder)\n",
    "    print(\"Loaded existing ChromaDB from .chroma\")\n",
    "else:\n",
    "    # Create ChromaDB and store the documents\n",
    "    chroma_db = Chroma.from_documents(\n",
    "        documents=docs,\n",
    "        embedding=embedder,\n",
    "        persist_directory=persist_directory,  \n",
    "    )\n",
    "    print(\"Created new ChromaDB and saved to .chroma\")"
   ]
  },
  {
   "cell_type": "markdown",
   "metadata": {},
   "source": [
    "## Retrieve"
   ]
  },
  {
   "cell_type": "code",
   "execution_count": 8,
   "metadata": {},
   "outputs": [],
   "source": [
    "retriever = chroma_db.as_retriever(search_kwargs={\"k\": 100})"
   ]
  },
  {
   "cell_type": "code",
   "execution_count": 9,
   "metadata": {},
   "outputs": [],
   "source": [
    "retrieved_df = pd.DataFrame([[{} ] for _ in query_df.index], index=query_df.index, columns=[\"Documents\"])"
   ]
  },
  {
   "cell_type": "code",
   "execution_count": 10,
   "metadata": {},
   "outputs": [],
   "source": [
    "for idx, query in query_df[\"query\"].items():\n",
    "\n",
    "    retrieved = retriever.invoke(query)\n",
    "\n",
    "    retrieved = {\n",
    "        str(doc.metadata[\"id\"]):  1\n",
    "        for doc in retrieved\n",
    "    }\n",
    "    retrieved_df.loc[idx][\"Documents\"] = retrieved\n",
    "\n",
    "retrieved_results = retrieved_df[\"Documents\"].to_dict()"
   ]
  },
  {
   "cell_type": "markdown",
   "metadata": {},
   "source": [
    "## Re-Rank"
   ]
  },
  {
   "cell_type": "code",
   "execution_count": 11,
   "metadata": {},
   "outputs": [],
   "source": [
    "cross_encoder = CrossEncoder(\"cross-encoder/ms-marco-MiniLM-L-6-v2\")\n",
    "\n",
    "def sigmoid(x):\n",
    "    return 1 / (1 + torch.exp(-torch.tensor(x)))"
   ]
  },
  {
   "cell_type": "code",
   "execution_count": 12,
   "metadata": {},
   "outputs": [],
   "source": [
    "for idx, query in query_df[\"query\"].items():\n",
    "    for doc_id in retrieved_results[idx]:\n",
    "\n",
    "        raw_score = cross_encoder.predict((query, documents_df.loc[doc_id].text))\n",
    "        normalized_score = sigmoid(raw_score).item()\n",
    "\n",
    "        retrieved_results[idx][doc_id] = normalized_score\n",
    "    \n",
    "    retrieved_results[idx] = dict(sorted(retrieved_results[idx].items(), key=lambda item: item[1], reverse=True))"
   ]
  },
  {
   "cell_type": "markdown",
   "metadata": {},
   "source": [
    "## Evaluate Retrieval"
   ]
  },
  {
   "cell_type": "code",
   "execution_count": 13,
   "metadata": {},
   "outputs": [],
   "source": [
    "qrels = pd.read_csv('../../data/resources/finder_qrels.tsv', sep='\\t')"
   ]
  },
  {
   "cell_type": "code",
   "execution_count": 14,
   "metadata": {},
   "outputs": [],
   "source": [
    "qrels_dict = {}\n",
    "for index, row in qrels.iterrows():\n",
    "    key = row['query_id']\n",
    "    if key not in qrels_dict:\n",
    "        qrels_dict[key] = {}\n",
    "    qrels_dict[key][row['corpus_id']] = row['score']"
   ]
  },
  {
   "cell_type": "code",
   "execution_count": 15,
   "metadata": {},
   "outputs": [],
   "source": [
    "k_values = [10, 50, 100]\n",
    "results = task.evaluate(qrels=qrels_dict, results=retrieved_results, k_values=k_values)"
   ]
  },
  {
   "cell_type": "code",
   "execution_count": 16,
   "metadata": {},
   "outputs": [
    {
     "data": {
      "text/html": [
       "<div>\n",
       "<style scoped>\n",
       "    .dataframe tbody tr th:only-of-type {\n",
       "        vertical-align: middle;\n",
       "    }\n",
       "\n",
       "    .dataframe tbody tr th {\n",
       "        vertical-align: top;\n",
       "    }\n",
       "\n",
       "    .dataframe thead th {\n",
       "        text-align: right;\n",
       "    }\n",
       "</style>\n",
       "<table border=\"1\" class=\"dataframe\">\n",
       "  <thead>\n",
       "    <tr style=\"text-align: right;\">\n",
       "      <th></th>\n",
       "      <th>MAP</th>\n",
       "      <th>NDCG</th>\n",
       "      <th>P@K</th>\n",
       "      <th>R@K</th>\n",
       "    </tr>\n",
       "  </thead>\n",
       "  <tbody>\n",
       "    <tr>\n",
       "      <th>10</th>\n",
       "      <td>0.23395</td>\n",
       "      <td>0.27320</td>\n",
       "      <td>0.04844</td>\n",
       "      <td>0.36953</td>\n",
       "    </tr>\n",
       "    <tr>\n",
       "      <th>50</th>\n",
       "      <td>0.24841</td>\n",
       "      <td>0.32962</td>\n",
       "      <td>0.01688</td>\n",
       "      <td>0.59609</td>\n",
       "    </tr>\n",
       "    <tr>\n",
       "      <th>100</th>\n",
       "      <td>0.24956</td>\n",
       "      <td>0.33817</td>\n",
       "      <td>0.00953</td>\n",
       "      <td>0.63672</td>\n",
       "    </tr>\n",
       "  </tbody>\n",
       "</table>\n",
       "</div>"
      ],
      "text/plain": [
       "         MAP     NDCG      P@K      R@K\n",
       "10   0.23395  0.27320  0.04844  0.36953\n",
       "50   0.24841  0.32962  0.01688  0.59609\n",
       "100  0.24956  0.33817  0.00953  0.63672"
      ]
     },
     "execution_count": 16,
     "metadata": {},
     "output_type": "execute_result"
    }
   ],
   "source": [
    "metrics_df = pd.DataFrame(index=k_values, columns=[\"MAP\", \"NDCG\", \"P@K\", \"R@K\"])\n",
    "\n",
    "metrics_df[\"MAP\"] = [results[1][f\"MAP@{k}\"] for k in k_values]\n",
    "metrics_df[\"NDCG\"] = [results[0][f\"NDCG@{k}\"] for k in k_values]\n",
    "metrics_df[\"P@K\"] = [results[3][f\"P@{k}\"] for k in k_values]\n",
    "metrics_df[\"R@K\"] = [results[2][f\"Recall@{k}\"] for k in k_values]\n",
    "\n",
    "metrics_df"
   ]
  },
  {
   "cell_type": "markdown",
   "metadata": {},
   "source": [
    "WİTH ONLY RETRİEVAL\n",
    "\n",
    "| K   | MAP     | NDCG    | P@K     | R@K    |\n",
    "|-----|---------|---------|---------|--------|\n",
    "| 10  | 0.00781 | 0.00986 | 0.00156 | 0.01562|\n",
    "| 50  | 0.01750 | 0.06159 | 0.00656 | 0.24844|\n",
    "| 100 | 0.02224 | 0.11573 | 0.00781 | 0.5609 |"
   ]
  },
  {
   "cell_type": "markdown",
   "metadata": {},
   "source": [
    "WİTH RE-RANKİNG - NO CHUNKİNG\n",
    "\n",
    "| K   | MAP     | NDCG    | P@K     | R@K    |\n",
    "|-----|---------|---------|---------|--------|\n",
    "| 10  | 0.22589 | 0.25574 | 0.04063 | 0.32812|\n",
    "| 50  | 0.23863 | 0.30929 | 0.01469 | 0.54531|\n",
    "| 100 | 0.23915 | 0.31293 | 0.00781 | 0.56094|"
   ]
  },
  {
   "cell_type": "markdown",
   "metadata": {},
   "source": [
    "WİTH RECURSİVE CHUNKİNG\n",
    "\n",
    "| K   | MAP     | NDCG    | P@K     | R@K    |\n",
    "|-----|---------|---------|---------|--------|\n",
    "| 10  | 0.24140 | 0.27449 | 0.04375 | 0.35938|\n",
    "| 50  | 0.25273 | 0.32490 | 0.01500 | 0.56484|\n",
    "| 100 | 0.25273 | 0.32490 | 0.00750 | 0.56484|"
   ]
  },
  {
   "cell_type": "markdown",
   "metadata": {},
   "source": [
    "With titles concatanated to tbe texts beginning\n",
    "\n",
    "| K   | MAP     | NDCG    | P@K     | R@K    |\n",
    "|-----|---------|---------|---------|--------|\n",
    "| 10  | 0.30675 | 0.34873 | 0.06563 | 0.44219|\n",
    "| 50  | 0.32086 | 0.40100 | 0.01938 | 0.65234|\n",
    "| 100 | 0.32086 | 0.40100 | 0.00969 | 0.65234|"
   ]
  }
 ],
 "metadata": {
  "kernelspec": {
   "display_name": ".venv",
   "language": "python",
   "name": "python3"
  },
  "language_info": {
   "codemirror_mode": {
    "name": "ipython",
    "version": 3
   },
   "file_extension": ".py",
   "mimetype": "text/x-python",
   "name": "python",
   "nbconvert_exporter": "python",
   "pygments_lexer": "ipython3",
   "version": "3.12.4"
  }
 },
 "nbformat": 4,
 "nbformat_minor": 2
}
