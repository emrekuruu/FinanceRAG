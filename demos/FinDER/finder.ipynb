{
 "cells": [
  {
   "cell_type": "code",
   "execution_count": 1,
   "metadata": {},
   "outputs": [
    {
     "name": "stderr",
     "output_type": "stream",
     "text": [
      "/Users/emrekuru/Developer/FinanceRAG/.venv/lib/python3.12/site-packages/tqdm/auto.py:21: TqdmWarning: IProgress not found. Please update jupyter and ipywidgets. See https://ipywidgets.readthedocs.io/en/stable/user_install.html\n",
      "  from .autonotebook import tqdm as notebook_tqdm\n"
     ]
    }
   ],
   "source": [
    "import sys\n",
    "import os\n",
    "sys.path.append(os.path.abspath('../..'))\n",
    "\n",
    "from financerag.tasks import FinDER\n",
    "\n",
    "import numpy as np \n",
    "import pandas as pd\n",
    "\n",
    "from langchain.vectorstores import Chroma\n",
    "from langchain.embeddings import HuggingFaceEmbeddings\n",
    "from langchain.docstore.document import Document\n",
    "from sentence_transformers import CrossEncoder"
   ]
  },
  {
   "cell_type": "code",
   "execution_count": 2,
   "metadata": {},
   "outputs": [],
   "source": [
    "import warnings\n",
    "\n",
    "warnings.filterwarnings('ignore')"
   ]
  },
  {
   "cell_type": "markdown",
   "metadata": {},
   "source": [
    "## Read Data"
   ]
  },
  {
   "cell_type": "code",
   "execution_count": 3,
   "metadata": {},
   "outputs": [],
   "source": [
    "data_folder_path = os.path.join('../..', 'data')\n",
    "query_df = pd.read_csv(os.path.join(data_folder_path, \"FinDER/queries.csv\"), index_col=0)\n",
    "documents_df = pd.read_csv(os.path.join(data_folder_path, \"FinDER/corpus.csv\"), index_col=0)\n",
    "documents_df.dropna(subset=['text'], inplace=True)"
   ]
  },
  {
   "cell_type": "markdown",
   "metadata": {},
   "source": [
    "## Initiliaze Database"
   ]
  },
  {
   "cell_type": "code",
   "execution_count": 4,
   "metadata": {},
   "outputs": [],
   "source": [
    "embedder = HuggingFaceEmbeddings(model_name=\"msmarco-distilbert-base-v4\")"
   ]
  },
  {
   "cell_type": "code",
   "execution_count": 5,
   "metadata": {},
   "outputs": [
    {
     "name": "stdout",
     "output_type": "stream",
     "text": [
      "Loaded existing ChromaDB from .chroma\n"
     ]
    }
   ],
   "source": [
    "docs = [Document(page_content=text, metadata={\"id\": str(id)}) for id, text in documents_df.text.items()]\n",
    "\n",
    "persist_directory = \".chroma\"\n",
    "\n",
    "if os.path.exists(persist_directory):\n",
    "    # Load the existing ChromaDB\n",
    "    chroma_db = Chroma(persist_directory=persist_directory, embedding_function=embedder)\n",
    "    print(\"Loaded existing ChromaDB from .chroma\")\n",
    "else:\n",
    "    # Create ChromaDB and store the documents\n",
    "    chroma_db = Chroma.from_documents(\n",
    "        documents=docs,\n",
    "        embedding=embedder,\n",
    "        persist_directory=persist_directory,  # Specify the directory if needed for persistence\n",
    "    )\n",
    "    print(\"Created new ChromaDB and saved to .chroma\")\n"
   ]
  },
  {
   "cell_type": "markdown",
   "metadata": {},
   "source": [
    "## Retrieve"
   ]
  },
  {
   "cell_type": "code",
   "execution_count": 23,
   "metadata": {},
   "outputs": [],
   "source": [
    "retriever = chroma_db.as_retriever(search_kwargs={\"k\": 100})"
   ]
  },
  {
   "cell_type": "code",
   "execution_count": 24,
   "metadata": {},
   "outputs": [],
   "source": [
    "retrieved_df = pd.DataFrame([[{} ] for _ in query_df.index], index=query_df.index, columns=[\"Documents\"])"
   ]
  },
  {
   "cell_type": "code",
   "execution_count": 25,
   "metadata": {},
   "outputs": [],
   "source": [
    "for idx, query in query_df.text.items():\n",
    "\n",
    "    retrieved = retriever.invoke(query)\n",
    "    \n",
    "    retrieved = {\n",
    "        str(doc.metadata[\"id\"]):  1\n",
    "        for doc in retrieved\n",
    "    }\n",
    "    retrieved_df.loc[idx][\"Documents\"] = retrieved"
   ]
  },
  {
   "cell_type": "code",
   "execution_count": 26,
   "metadata": {},
   "outputs": [],
   "source": [
    "retrieved_results = retrieved_df[\"Documents\"].to_dict()"
   ]
  },
  {
   "cell_type": "code",
   "execution_count": 27,
   "metadata": {},
   "outputs": [
    {
     "data": {
      "text/plain": [
       "1"
      ]
     },
     "execution_count": 27,
     "metadata": {},
     "output_type": "execute_result"
    }
   ],
   "source": [
    "retrieved_results[\"q00007\"][\"MSFT20231529\"]"
   ]
  },
  {
   "cell_type": "markdown",
   "metadata": {},
   "source": [
    "## Re-Rank"
   ]
  },
  {
   "cell_type": "code",
   "execution_count": 74,
   "metadata": {},
   "outputs": [],
   "source": [
    "import torch\n",
    "\n",
    "cross_encoder = CrossEncoder(\"cross-encoder/ms-marco-MiniLM-L-6-v2\")\n",
    "\n",
    "def sigmoid(x):\n",
    "    return 1 / (1 + torch.exp(-torch.tensor(x)))\n",
    "\n",
    "for idx, query in query_df.text.items():\n",
    "    for doc_id in retrieved_results[idx]:\n",
    "        \n",
    "        raw_score = cross_encoder.predict((query, documents_df.loc[doc_id].text))\n",
    "        normalized_score = sigmoid(raw_score).item()\n",
    "\n",
    "        retrieved_results[idx][doc_id] = normalized_score\n",
    "    \n",
    "    retrieved_results[idx] = dict(sorted(retrieved_results[idx].items(), key=lambda item: item[1], reverse=True))"
   ]
  },
  {
   "cell_type": "markdown",
   "metadata": {},
   "source": [
    "## Evaluate"
   ]
  },
  {
   "cell_type": "code",
   "execution_count": 77,
   "metadata": {},
   "outputs": [
    {
     "name": "stderr",
     "output_type": "stream",
     "text": [
      "A Hugging Face repository is provided. This will override the data_folder, prefix, and *_file arguments.\n",
      "Using the latest cached version of the dataset since Linq-AI-Research/FinanceRAG couldn't be found on the Hugging Face Hub\n",
      "Found the latest cached dataset configuration 'FinDER' at /Users/emrekuru/.cache/huggingface/datasets/Linq-AI-Research___finance_rag/FinDER/0.0.0/ba6f7470152e76b389ad48e3997f15381e6aecae (last modified on Mon Oct 21 09:52:22 2024).\n"
     ]
    }
   ],
   "source": [
    "finder_task = FinDER()"
   ]
  },
  {
   "cell_type": "code",
   "execution_count": 78,
   "metadata": {},
   "outputs": [
    {
     "data": {
      "text/html": [
       "<div>\n",
       "<style scoped>\n",
       "    .dataframe tbody tr th:only-of-type {\n",
       "        vertical-align: middle;\n",
       "    }\n",
       "\n",
       "    .dataframe tbody tr th {\n",
       "        vertical-align: top;\n",
       "    }\n",
       "\n",
       "    .dataframe thead th {\n",
       "        text-align: right;\n",
       "    }\n",
       "</style>\n",
       "<table border=\"1\" class=\"dataframe\">\n",
       "  <thead>\n",
       "    <tr style=\"text-align: right;\">\n",
       "      <th></th>\n",
       "      <th>query_id</th>\n",
       "      <th>corpus_id</th>\n",
       "      <th>score</th>\n",
       "    </tr>\n",
       "  </thead>\n",
       "  <tbody>\n",
       "    <tr>\n",
       "      <th>0</th>\n",
       "      <td>q00001</td>\n",
       "      <td>MSFT20230014</td>\n",
       "      <td>1</td>\n",
       "    </tr>\n",
       "    <tr>\n",
       "      <th>1</th>\n",
       "      <td>q00001</td>\n",
       "      <td>MSFT20230015</td>\n",
       "      <td>1</td>\n",
       "    </tr>\n",
       "    <tr>\n",
       "      <th>2</th>\n",
       "      <td>q00007</td>\n",
       "      <td>MSFT20231529</td>\n",
       "      <td>1</td>\n",
       "    </tr>\n",
       "    <tr>\n",
       "      <th>3</th>\n",
       "      <td>q00008</td>\n",
       "      <td>MSFT20231529</td>\n",
       "      <td>1</td>\n",
       "    </tr>\n",
       "    <tr>\n",
       "      <th>4</th>\n",
       "      <td>q00010</td>\n",
       "      <td>ADBE20231571</td>\n",
       "      <td>1</td>\n",
       "    </tr>\n",
       "    <tr>\n",
       "      <th>...</th>\n",
       "      <td>...</td>\n",
       "      <td>...</td>\n",
       "      <td>...</td>\n",
       "    </tr>\n",
       "    <tr>\n",
       "      <th>98</th>\n",
       "      <td>q00197</td>\n",
       "      <td>UNH20230438</td>\n",
       "      <td>1</td>\n",
       "    </tr>\n",
       "    <tr>\n",
       "      <th>99</th>\n",
       "      <td>q00200</td>\n",
       "      <td>GOOGL20230050</td>\n",
       "      <td>1</td>\n",
       "    </tr>\n",
       "    <tr>\n",
       "      <th>100</th>\n",
       "      <td>q00204</td>\n",
       "      <td>GOOGL20230680</td>\n",
       "      <td>1</td>\n",
       "    </tr>\n",
       "    <tr>\n",
       "      <th>101</th>\n",
       "      <td>q00210</td>\n",
       "      <td>BRK.A20230396</td>\n",
       "      <td>1</td>\n",
       "    </tr>\n",
       "    <tr>\n",
       "      <th>102</th>\n",
       "      <td>q00212</td>\n",
       "      <td>BRK.A20232388</td>\n",
       "      <td>1</td>\n",
       "    </tr>\n",
       "  </tbody>\n",
       "</table>\n",
       "<p>103 rows × 3 columns</p>\n",
       "</div>"
      ],
      "text/plain": [
       "    query_id      corpus_id  score\n",
       "0     q00001   MSFT20230014      1\n",
       "1     q00001   MSFT20230015      1\n",
       "2     q00007   MSFT20231529      1\n",
       "3     q00008   MSFT20231529      1\n",
       "4     q00010   ADBE20231571      1\n",
       "..       ...            ...    ...\n",
       "98    q00197    UNH20230438      1\n",
       "99    q00200  GOOGL20230050      1\n",
       "100   q00204  GOOGL20230680      1\n",
       "101   q00210  BRK.A20230396      1\n",
       "102   q00212  BRK.A20232388      1\n",
       "\n",
       "[103 rows x 3 columns]"
      ]
     },
     "execution_count": 78,
     "metadata": {},
     "output_type": "execute_result"
    }
   ],
   "source": [
    "qrels = pd.read_csv('../../data/resources/finder_qrels.tsv', sep='\\t')\n",
    "qrels"
   ]
  },
  {
   "cell_type": "code",
   "execution_count": 79,
   "metadata": {},
   "outputs": [
    {
     "data": {
      "text/plain": [
       "{'q00001': {'MSFT20230014': 1, 'MSFT20230015': 1},\n",
       " 'q00007': {'MSFT20231529': 1},\n",
       " 'q00008': {'MSFT20231529': 1},\n",
       " 'q00010': {'ADBE20231571': 1,\n",
       "  'ADBE20231572': 1,\n",
       "  'ADBE20230728': 1,\n",
       "  'ADBE20231573': 1},\n",
       " 'q00019': {'CPNG20230732': 1},\n",
       " 'q00021': {'CPNG20230658': 1},\n",
       " 'q00022': {'CPNG20230553': 1},\n",
       " 'q00027': {'LIN20231133': 1},\n",
       " 'q00028': {'LIN20231195': 1},\n",
       " 'q00030': {'LIN20230064': 1,\n",
       "  'LIN20230065': 1,\n",
       "  'LIN20230066': 1,\n",
       "  'LIN20230067': 1},\n",
       " 'q00034': {'LIN20230551': 1},\n",
       " 'q00039': {'ORCL20230738': 1, 'ORCL20230739': 1},\n",
       " 'q00042': {'ORCL20230129': 1, 'ORCL20230130': 1, 'ORCL20230131': 1},\n",
       " 'q00043': {'ORCL20231527': 1, 'ORCL20231529': 1},\n",
       " 'q00044': {'ORCL20231505': 1},\n",
       " 'q00048': {'NVDA20231260': 1},\n",
       " 'q00062': {'PG20230221': 1, 'PG20230805': 1},\n",
       " 'q00067': {'PG20230429': 1},\n",
       " 'q00070': {'PG20230438': 1},\n",
       " 'q00071': {'PG20230440': 1},\n",
       " 'q00078': {'DAL20230459': 1},\n",
       " 'q00081': {'DAL20230513': 1},\n",
       " 'q00092': {'TSLA20230391': 1},\n",
       " 'q00095': {'TSLA20231453': 1, 'TSLA20231454': 1},\n",
       " 'q00099': {'NFLX20230692': 1, 'NFLX20230006': 1},\n",
       " 'q00103': {'NFLX20230387': 1},\n",
       " 'q00108': {'NFLX20230380': 1},\n",
       " 'q00111': {'HD20230012': 1},\n",
       " 'q00119': {'AAPL20230236': 1, 'AAPL20230557': 1},\n",
       " 'q00120': {'AAPL20230251': 1},\n",
       " 'q00122': {'AAPL20230871': 1, 'AAPL20230222': 1},\n",
       " 'q00123': {'AAPL20230966': 1},\n",
       " 'q00125': {'AAPL20230329': 1},\n",
       " 'q00127': {'AAPL20230882': 1},\n",
       " 'q00128': {'AAPL20230707': 1},\n",
       " 'q00131': {'AMZN20230757': 1},\n",
       " 'q00137': {'AMZN20230278': 1},\n",
       " 'q00145': {'AMZN20230740': 1, 'AMZN20230747': 1},\n",
       " 'q00146': {'AMZN20230982': 1},\n",
       " 'q00147': {'AMZN20231110': 1},\n",
       " 'q00148': {'AMZN20230282': 1},\n",
       " 'q00150': {'META20230315': 1},\n",
       " 'q00153': {'META20230007': 1},\n",
       " 'q00156': {'META20230801': 1},\n",
       " 'q00162': {'JNJ20231505': 1},\n",
       " 'q00165': {'JNJ20230226': 1,\n",
       "  'JNJ20230227': 1,\n",
       "  'JNJ20230228': 1,\n",
       "  'JNJ20230229': 1,\n",
       "  'JNJ20230230': 1,\n",
       "  'JNJ20230232': 1,\n",
       "  'JNJ20230233': 1,\n",
       "  'JNJ20230234': 1,\n",
       "  'JNJ20230235': 1,\n",
       "  'JNJ20230236': 1,\n",
       "  'JNJ20230237': 1,\n",
       "  'JNJ20230239': 1},\n",
       " 'q00166': {'JNJ20230263': 1},\n",
       " 'q00169': {'JPM20231163': 1},\n",
       " 'q00171': {'JPM20231968': 1},\n",
       " 'q00172': {'JPM20235630': 1,\n",
       "  'JPM20235631': 1,\n",
       "  'JPM20235632': 1,\n",
       "  'JPM20235633': 1,\n",
       "  'JPM20235636': 1},\n",
       " 'q00174': {'JPM20230013': 1},\n",
       " 'q00175': {'JPM20230026': 1},\n",
       " 'q00180': {'V20230004': 1},\n",
       " 'q00181': {'V20230020': 1, 'V20230028': 1},\n",
       " 'q00182': {'V20230112': 1, 'V20230376': 1},\n",
       " 'q00185': {'V20230537': 1},\n",
       " 'q00187': {'V20230372': 1, 'V20230374': 1, 'V20230375': 1},\n",
       " 'q00189': {'UNH20230014': 1},\n",
       " 'q00191': {'UNH20230401': 1},\n",
       " 'q00197': {'UNH20230432': 1,\n",
       "  'UNH20230433': 1,\n",
       "  'UNH20230436': 1,\n",
       "  'UNH20230438': 1},\n",
       " 'q00200': {'GOOGL20230050': 1},\n",
       " 'q00204': {'GOOGL20230680': 1},\n",
       " 'q00210': {'BRK.A20230396': 1},\n",
       " 'q00212': {'BRK.A20232388': 1}}"
      ]
     },
     "execution_count": 79,
     "metadata": {},
     "output_type": "execute_result"
    }
   ],
   "source": [
    "qrels_dict = {}\n",
    "for index, row in qrels.iterrows():\n",
    "    key = row['query_id']\n",
    "    if key not in qrels_dict:\n",
    "        qrels_dict[key] = {}\n",
    "    qrels_dict[key][row['corpus_id']] = row['score']\n",
    "qrels_dict"
   ]
  },
  {
   "cell_type": "code",
   "execution_count": 80,
   "metadata": {},
   "outputs": [],
   "source": [
    "k_values = [10, 50, 100]\n",
    "results = finder_task.evaluate(qrels=qrels_dict, results=retrieved_results, k_values=k_values)"
   ]
  },
  {
   "cell_type": "code",
   "execution_count": 81,
   "metadata": {},
   "outputs": [
    {
     "data": {
      "text/html": [
       "<div>\n",
       "<style scoped>\n",
       "    .dataframe tbody tr th:only-of-type {\n",
       "        vertical-align: middle;\n",
       "    }\n",
       "\n",
       "    .dataframe tbody tr th {\n",
       "        vertical-align: top;\n",
       "    }\n",
       "\n",
       "    .dataframe thead th {\n",
       "        text-align: right;\n",
       "    }\n",
       "</style>\n",
       "<table border=\"1\" class=\"dataframe\">\n",
       "  <thead>\n",
       "    <tr style=\"text-align: right;\">\n",
       "      <th></th>\n",
       "      <th>MAP</th>\n",
       "      <th>NDCG</th>\n",
       "      <th>P@K</th>\n",
       "      <th>R@K</th>\n",
       "    </tr>\n",
       "  </thead>\n",
       "  <tbody>\n",
       "    <tr>\n",
       "      <th>10</th>\n",
       "      <td>0.22589</td>\n",
       "      <td>0.25574</td>\n",
       "      <td>0.04063</td>\n",
       "      <td>0.32812</td>\n",
       "    </tr>\n",
       "    <tr>\n",
       "      <th>50</th>\n",
       "      <td>0.23863</td>\n",
       "      <td>0.30929</td>\n",
       "      <td>0.01469</td>\n",
       "      <td>0.54531</td>\n",
       "    </tr>\n",
       "    <tr>\n",
       "      <th>100</th>\n",
       "      <td>0.23915</td>\n",
       "      <td>0.31293</td>\n",
       "      <td>0.00781</td>\n",
       "      <td>0.56094</td>\n",
       "    </tr>\n",
       "  </tbody>\n",
       "</table>\n",
       "</div>"
      ],
      "text/plain": [
       "         MAP     NDCG      P@K      R@K\n",
       "10   0.22589  0.25574  0.04063  0.32812\n",
       "50   0.23863  0.30929  0.01469  0.54531\n",
       "100  0.23915  0.31293  0.00781  0.56094"
      ]
     },
     "execution_count": 81,
     "metadata": {},
     "output_type": "execute_result"
    }
   ],
   "source": [
    "metrics_df = pd.DataFrame(index=k_values, columns=[\"MAP\", \"NDCG\", \"P@K\", \"R@K\"])\n",
    "\n",
    "metrics_df[\"MAP\"] = [results[1][f\"MAP@{k}\"] for k in k_values]\n",
    "metrics_df[\"NDCG\"] = [results[0][f\"NDCG@{k}\"] for k in k_values]\n",
    "metrics_df[\"P@K\"] = [results[3][f\"P@{k}\"] for k in k_values]\n",
    "metrics_df[\"R@K\"] = [results[2][f\"Recall@{k}\"] for k in k_values]\n",
    "\n",
    "metrics_df"
   ]
  },
  {
   "cell_type": "markdown",
   "metadata": {},
   "source": [
    "### Compare With Just Retrievel"
   ]
  },
  {
   "cell_type": "markdown",
   "metadata": {},
   "source": [
    "    MAP\t        NDCG\t    P@K\t        R@K\n",
    "| K   | MAP     | NDCG    | P@K     | R@K    |\n",
    "|-----|---------|---------|---------|--------|\n",
    "| 10  | 0.00781 | 0.00986 | 0.00156 | 0.01562|\n",
    "| 50  | 0.01750 | 0.06159 | 0.00656 | 0.24844|\n",
    "| 100 | 0.02224 | 0.11573 | 0.00781 | 0.5609 |"
   ]
  },
  {
   "cell_type": "markdown",
   "metadata": {},
   "source": []
  }
 ],
 "metadata": {
  "kernelspec": {
   "display_name": ".venv",
   "language": "python",
   "name": "python3"
  },
  "language_info": {
   "codemirror_mode": {
    "name": "ipython",
    "version": 3
   },
   "file_extension": ".py",
   "mimetype": "text/x-python",
   "name": "python",
   "nbconvert_exporter": "python",
   "pygments_lexer": "ipython3",
   "version": "3.12.4"
  }
 },
 "nbformat": 4,
 "nbformat_minor": 2
}
