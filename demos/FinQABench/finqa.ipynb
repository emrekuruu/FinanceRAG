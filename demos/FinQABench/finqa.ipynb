{
 "cells": [
  {
   "cell_type": "code",
   "execution_count": 1,
   "metadata": {},
   "outputs": [
    {
     "name": "stderr",
     "output_type": "stream",
     "text": [
      "/Users/emrekuru/Developer/FinanceRAG/.venv/lib/python3.12/site-packages/sentence_transformers/cross_encoder/CrossEncoder.py:13: TqdmWarning: IProgress not found. Please update jupyter and ipywidgets. See https://ipywidgets.readthedocs.io/en/stable/user_install.html\n",
      "  from tqdm.autonotebook import tqdm, trange\n"
     ]
    }
   ],
   "source": [
    "import sys\n",
    "import pandas as pd\n",
    "import torch \n",
    "import os \n",
    "\n",
    "sys.path.append(\"../..\")\n",
    "# For retrieval\n",
    "\n",
    "from langchain.vectorstores import Chroma\n",
    "from langchain.embeddings import HuggingFaceEmbeddings\n",
    "from langchain.docstore.document import Document\n",
    "from sentence_transformers import CrossEncoder\n",
    "from langchain.text_splitter import RecursiveCharacterTextSplitter\n",
    "\n",
    "from financerag.tasks import FinQABench"
   ]
  },
  {
   "cell_type": "code",
   "execution_count": 2,
   "metadata": {},
   "outputs": [],
   "source": [
    "import warnings\n",
    "\n",
    "warnings.filterwarnings('ignore')"
   ]
  },
  {
   "cell_type": "markdown",
   "metadata": {},
   "source": [
    "## Read Data"
   ]
  },
  {
   "cell_type": "code",
   "execution_count": 3,
   "metadata": {},
   "outputs": [
    {
     "name": "stderr",
     "output_type": "stream",
     "text": [
      "A Hugging Face repository is provided. This will override the data_folder, prefix, and *_file arguments.\n"
     ]
    }
   ],
   "source": [
    "task = FinQABench()"
   ]
  },
  {
   "cell_type": "code",
   "execution_count": 4,
   "metadata": {},
   "outputs": [
    {
     "data": {
      "text/html": [
       "<div>\n",
       "<style scoped>\n",
       "    .dataframe tbody tr th:only-of-type {\n",
       "        vertical-align: middle;\n",
       "    }\n",
       "\n",
       "    .dataframe tbody tr th {\n",
       "        vertical-align: top;\n",
       "    }\n",
       "\n",
       "    .dataframe thead th {\n",
       "        text-align: right;\n",
       "    }\n",
       "</style>\n",
       "<table border=\"1\" class=\"dataframe\">\n",
       "  <thead>\n",
       "    <tr style=\"text-align: right;\">\n",
       "      <th></th>\n",
       "      <th>query</th>\n",
       "    </tr>\n",
       "  </thead>\n",
       "  <tbody>\n",
       "    <tr>\n",
       "      <th>q4aa0b116</th>\n",
       "      <td>What is the redemption price for the 0.875% 20...</td>\n",
       "    </tr>\n",
       "    <tr>\n",
       "      <th>q4aa0a48c</th>\n",
       "      <td>What is the maturity date of the 0.875% 2025 N...</td>\n",
       "    </tr>\n",
       "    <tr>\n",
       "      <th>q4aa0aeb4</th>\n",
       "      <td>What are the conditions under which the Compan...</td>\n",
       "    </tr>\n",
       "    <tr>\n",
       "      <th>q4aa05fa4</th>\n",
       "      <td>What is the Company's investment policy and st...</td>\n",
       "    </tr>\n",
       "    <tr>\n",
       "      <th>q4aa092f8</th>\n",
       "      <td>What is the purpose of the Company's internal ...</td>\n",
       "    </tr>\n",
       "    <tr>\n",
       "      <th>...</th>\n",
       "      <td>...</td>\n",
       "    </tr>\n",
       "    <tr>\n",
       "      <th>q4aa01fda</th>\n",
       "      <td>What risks are associated with the Company's i...</td>\n",
       "    </tr>\n",
       "    <tr>\n",
       "      <th>q4aa0a1d0</th>\n",
       "      <td>What percentage of outstanding shares must vot...</td>\n",
       "    </tr>\n",
       "    <tr>\n",
       "      <th>q4aa0a34c</th>\n",
       "      <td>What is the minimum percentage of shares requi...</td>\n",
       "    </tr>\n",
       "    <tr>\n",
       "      <th>q4aa05284</th>\n",
       "      <td>What was the approximate dollar value of share...</td>\n",
       "    </tr>\n",
       "    <tr>\n",
       "      <th>q4aa0b3fa</th>\n",
       "      <td>What is the \"Par Call Date\" for the 0.875% 202...</td>\n",
       "    </tr>\n",
       "  </tbody>\n",
       "</table>\n",
       "<p>100 rows × 1 columns</p>\n",
       "</div>"
      ],
      "text/plain": [
       "                                                       query\n",
       "q4aa0b116  What is the redemption price for the 0.875% 20...\n",
       "q4aa0a48c  What is the maturity date of the 0.875% 2025 N...\n",
       "q4aa0aeb4  What are the conditions under which the Compan...\n",
       "q4aa05fa4  What is the Company's investment policy and st...\n",
       "q4aa092f8  What is the purpose of the Company's internal ...\n",
       "...                                                      ...\n",
       "q4aa01fda  What risks are associated with the Company's i...\n",
       "q4aa0a1d0  What percentage of outstanding shares must vot...\n",
       "q4aa0a34c  What is the minimum percentage of shares requi...\n",
       "q4aa05284  What was the approximate dollar value of share...\n",
       "q4aa0b3fa  What is the \"Par Call Date\" for the 0.875% 202...\n",
       "\n",
       "[100 rows x 1 columns]"
      ]
     },
     "execution_count": 4,
     "metadata": {},
     "output_type": "execute_result"
    }
   ],
   "source": [
    "queries = task.queries\n",
    "query_df = pd.DataFrame(queries.values(), index=queries.keys(), columns=[\"query\"])"
   ]
  },
  {
   "cell_type": "code",
   "execution_count": 5,
   "metadata": {},
   "outputs": [],
   "source": [
    "documents = task.corpus\n",
    "documents_df = pd.DataFrame(documents.values(), index=documents.keys(), columns=[\"title\", \"text\"])"
   ]
  },
  {
   "cell_type": "code",
   "execution_count": 6,
   "metadata": {},
   "outputs": [
    {
     "data": {
      "image/png": "[encoded data removed]",
      "text/plain": [
       "<Figure size 1000x600 with 1 Axes>"
      ]
     },
     "metadata": {},
     "output_type": "display_data"
    }
   ],
   "source": [
    "import matplotlib.pyplot as plt\n",
    "\n",
    "# Calculate the length of each text\n",
    "documents_df['text_length'] = documents_df['text'].apply(len)\n",
    "\n",
    "# Plot the histogram\n",
    "plt.figure(figsize=(10, 6))\n",
    "plt.hist(documents_df['text_length'], bins=30, edgecolor='k', alpha=0.7)\n",
    "plt.title('Histogram of Document Lengths')\n",
    "plt.xlabel('Text Length')\n",
    "plt.ylabel('Frequency')\n",
    "plt.show()"
   ]
  },
  {
   "cell_type": "markdown",
   "metadata": {},
   "source": [
    "## Initiliaze Database"
   ]
  },
  {
   "cell_type": "code",
   "execution_count": 7,
   "metadata": {},
   "outputs": [
    {
     "name": "stdout",
     "output_type": "stream",
     "text": [
      "Created new ChromaDB and saved to .chroma\n"
     ]
    }
   ],
   "source": [
    "embedder = HuggingFaceEmbeddings(model_name=\"msmarco-distilbert-base-v4\")\n",
    "\n",
    "persist_directory = \".chroma\"\n",
    "\n",
    "text_splitter = RecursiveCharacterTextSplitter(\n",
    "    chunk_size=800,  # Define chunk size\n",
    "    chunk_overlap=100  # Define overlap to maintain context between chunks\n",
    ")\n",
    "\n",
    "docs = []\n",
    "for id, text in documents_df.text.items():\n",
    "    # Split the document into chunks\n",
    "    chunks = text_splitter.split_text(text)\n",
    "    \n",
    "    # Create a Document object for each chunk but store the parent document ID in the metadata\n",
    "    for i, chunk in enumerate(chunks):\n",
    "        doc = Document(page_content=chunk, metadata={\"id\": str(id), \"chunk_index\": i})\n",
    "        docs.append(doc)\n",
    "\n",
    "if os.path.exists(persist_directory):\n",
    "    # Load the existing ChromaDB\n",
    "    chroma_db = Chroma(persist_directory=persist_directory, embedding_function=embedder)\n",
    "    print(\"Loaded existing ChromaDB from .chroma\")\n",
    "else:\n",
    "    # Create ChromaDB and store the documents\n",
    "    chroma_db = Chroma.from_documents(\n",
    "        documents=docs,\n",
    "        embedding=embedder,\n",
    "        persist_directory=persist_directory,  \n",
    "    )\n",
    "    print(\"Created new ChromaDB and saved to .chroma\")\n"
   ]
  },
  {
   "cell_type": "markdown",
   "metadata": {},
   "source": [
    "## Retrieve"
   ]
  },
  {
   "cell_type": "code",
   "execution_count": 8,
   "metadata": {},
   "outputs": [],
   "source": [
    "retriever = chroma_db.as_retriever(search_kwargs={\"k\": 100})"
   ]
  },
  {
   "cell_type": "code",
   "execution_count": 9,
   "metadata": {},
   "outputs": [],
   "source": [
    "retrieved_df = pd.DataFrame([[{} ] for _ in query_df.index], index=query_df.index, columns=[\"Documents\"])"
   ]
  },
  {
   "cell_type": "code",
   "execution_count": 10,
   "metadata": {},
   "outputs": [],
   "source": [
    "for idx, query in query_df[\"query\"].items():\n",
    "\n",
    "    retrieved = retriever.invoke(query)\n",
    "\n",
    "    retrieved = {\n",
    "        str(doc.metadata[\"id\"]):  1\n",
    "        for doc in retrieved\n",
    "    }\n",
    "    retrieved_df.loc[idx][\"Documents\"] = retrieved\n",
    "\n",
    "retrieved_results = retrieved_df[\"Documents\"].to_dict()"
   ]
  },
  {
   "cell_type": "markdown",
   "metadata": {},
   "source": [
    "## Re-Rank"
   ]
  },
  {
   "cell_type": "code",
   "execution_count": 11,
   "metadata": {},
   "outputs": [],
   "source": [
    "cross_encoder = CrossEncoder(\"cross-encoder/ms-marco-MiniLM-L-6-v2\")\n",
    "\n",
    "def sigmoid(x):\n",
    "    return 1 / (1 + torch.exp(-torch.tensor(x)))\n",
    "\n",
    "for idx, query in query_df[\"query\"].items():\n",
    "    for doc_id in retrieved_results[idx]:\n",
    "\n",
    "        raw_score = cross_encoder.predict((query, documents_df.loc[doc_id].text))\n",
    "        normalized_score = sigmoid(raw_score).item()\n",
    "\n",
    "        retrieved_results[idx][doc_id] = normalized_score\n",
    "    \n",
    "    retrieved_results[idx] = dict(sorted(retrieved_results[idx].items(), key=lambda item: item[1], reverse=True))"
   ]
  },
  {
   "cell_type": "code",
   "execution_count": 12,
   "metadata": {},
   "outputs": [
    {
     "data": {
      "text/plain": [
       "{'d4aa1b854': 0.9992239475250244,\n",
       " 'd4aa0d92a': 0.9899457097053528,\n",
       " 'd4aa0dc22': 0.8248130679130554,\n",
       " 'd4aa0d740': 0.05338200926780701,\n",
       " 'd4aa079c6': 0.0024027652107179165,\n",
       " 'd4aa11cbe': 0.00020592492364812642,\n",
       " 'd4aa124fc': 0.000175886059878394,\n",
       " 'd4aa04cc6': 0.00014075955550651997,\n",
       " 'd4aa0abd0': 0.0001075760301318951,\n",
       " 'd4aa18744': 0.00010059699707198888,\n",
       " 'd4aa1530a': 9.677391062723473e-05,\n",
       " 'd4aa05d24': 6.285328709054738e-05,\n",
       " 'd4aa0839e': 6.129781104391441e-05,\n",
       " 'd4aa08ad8': 5.668839003192261e-05,\n",
       " 'd4aa051b2': 5.503996726474725e-05,\n",
       " 'd4aa00b94': 5.170282020117156e-05,\n",
       " 'd4aa110e8': 4.806463039130904e-05,\n",
       " 'd4aa1afee': 4.3704643758246675e-05,\n",
       " 'd4aa05ebe': 4.278898995835334e-05,\n",
       " 'd4aa075a2': 4.270183853805065e-05,\n",
       " 'd4aa005d6': 3.886871490976773e-05,\n",
       " 'd4aa113f4': 3.731861215783283e-05,\n",
       " 'd4aa18e92': 3.602101787691936e-05,\n",
       " 'd4aa099d8': 3.567999374354258e-05,\n",
       " 'd4aa04834': 3.423200541874394e-05,\n",
       " 'd4aa05be4': 3.2638585253152996e-05,\n",
       " 'd4aa00978': 3.263472535763867e-05,\n",
       " 'd4aa0a40a': 2.7374537239666097e-05,\n",
       " 'd4aa04474': 2.4584684069850482e-05,\n",
       " 'd4aa09f6e': 2.4548160581616685e-05,\n",
       " 'd4aa06b84': 2.404074439255055e-05,\n",
       " 'd4aa06030': 2.2188678485690616e-05,\n",
       " 'd4aa19d7e': 2.2112169972388074e-05,\n",
       " 'd4aa09b4a': 1.9773462554439902e-05,\n",
       " 'd4aa04e60': 1.9170958694303408e-05,\n",
       " 'd4aa0af90': 1.9142038581776433e-05,\n",
       " 'd4aa10314': 1.8564402125775814e-05,\n",
       " 'd4aa10cc4': 1.850368789746426e-05,\n",
       " 'd4aa0a270': 1.839272772485856e-05,\n",
       " 'd4aa0b6fc': 1.760589839250315e-05,\n",
       " 'd4a9ffd70': 1.7212159946211614e-05,\n",
       " 'd4aa06468': 1.6874213542905636e-05,\n",
       " 'd4aa0550e': 1.653300023463089e-05,\n",
       " 'd4aa007c0': 1.6448391761514358e-05,\n",
       " 'd4aa0a9e6': 1.584324309078511e-05,\n",
       " 'd4aa06f44': 1.5231688848871272e-05,\n",
       " 'd4aa09744': 1.5215109669952653e-05,\n",
       " 'd4aa017ba': 1.5139728020585608e-05,\n",
       " 'd4aa01a12': 1.4581336472474504e-05,\n",
       " 'd4aa197ca': 1.3056940588285215e-05,\n",
       " 'd4aa08fa6': 1.2962400433025323e-05}"
      ]
     },
     "execution_count": 12,
     "metadata": {},
     "output_type": "execute_result"
    }
   ],
   "source": [
    "retrieved_results[\"q4aa1b5ac\"]"
   ]
  },
  {
   "cell_type": "markdown",
   "metadata": {},
   "source": [
    "## Evaluate"
   ]
  },
  {
   "cell_type": "code",
   "execution_count": 13,
   "metadata": {},
   "outputs": [],
   "source": [
    "qrels = pd.read_csv('../../data/resources/finq_qrels.tsv', sep='\\t')"
   ]
  },
  {
   "cell_type": "code",
   "execution_count": 14,
   "metadata": {},
   "outputs": [
    {
     "data": {
      "text/plain": [
       "{'q4a9ffea6': {'d4a9fff3c': 1},\n",
       " 'q4aa001f8': {'d4aa00266': 1},\n",
       " 'q4aa013c8': {'d4aa01440': 1},\n",
       " 'q4aa01b02': {'d4aa01b7a': 1},\n",
       " 'q4aa01e4a': {'d4aa01ecc': 1},\n",
       " 'q4aa049ba': {'d4aa01440': 1},\n",
       " 'q4aa04c12': {'d4aa04cc6': 1},\n",
       " 'q4aa05284': {'d4aa05306': 1},\n",
       " 'q4aa055e0': {'d4aa05662': 1},\n",
       " 'q4aa05fa4': {'d4aa06030': 1},\n",
       " 'q4aa061ca': {'d4aa06274': 1},\n",
       " 'q4aa06710': {'d4aa067ba': 1},\n",
       " 'q4aa06af8': {'d4aa06b84': 1},\n",
       " 'q4aa0767e': {'d4aa07714': 1},\n",
       " 'q4aa078fe': {'d4aa079c6': 1},\n",
       " 'q4aa07c0a': {'d4aa06b84': 1},\n",
       " 'q4aa07f02': {'d4aa04e60': 1},\n",
       " 'q4aa0818c': {'d4aa0822c': 1},\n",
       " 'q4aa0843e': {'d4aa084de': 1},\n",
       " 'q4aa089e8': {'d4aa08ad8': 1},\n",
       " 'q4aa0a48c': {'d4aa0a52c': 1},\n",
       " 'q4aa0a928': {'d4aa0a9e6': 1},\n",
       " 'q4aa0aafe': {'d4aa0abd0': 1},\n",
       " 'q4aa0b116': {'d4aa0b1f2': 1},\n",
       " 'q4aa0b634': {'d4aa0b6fc': 1},\n",
       " 'q4aa0d862': {'d4aa0d92a': 1},\n",
       " 'q4aa0dd62': {'d4aa10314': 1},\n",
       " 'q4aa11264': {'d4aa113f4': 1},\n",
       " 'q4aa175b0': {'d4aa18744': 1},\n",
       " 'q4aa1b5ac': {'d4aa1b854': 1}}"
      ]
     },
     "execution_count": 14,
     "metadata": {},
     "output_type": "execute_result"
    }
   ],
   "source": [
    "qrels_dict = {}\n",
    "for index, row in qrels.iterrows():\n",
    "    key = row['query_id']\n",
    "    if key not in qrels_dict:\n",
    "        qrels_dict[key] = {}\n",
    "    qrels_dict[key][row['corpus_id']] = row['score']"
   ]
  },
  {
   "cell_type": "code",
   "execution_count": 17,
   "metadata": {},
   "outputs": [],
   "source": [
    "k_values = [1, 3, 10]\n",
    "results = task.evaluate(qrels=qrels_dict, results=retrieved_results, k_values=k_values)"
   ]
  },
  {
   "cell_type": "code",
   "execution_count": 18,
   "metadata": {},
   "outputs": [
    {
     "data": {
      "text/html": [
       "<div>\n",
       "<style scoped>\n",
       "    .dataframe tbody tr th:only-of-type {\n",
       "        vertical-align: middle;\n",
       "    }\n",
       "\n",
       "    .dataframe tbody tr th {\n",
       "        vertical-align: top;\n",
       "    }\n",
       "\n",
       "    .dataframe thead th {\n",
       "        text-align: right;\n",
       "    }\n",
       "</style>\n",
       "<table border=\"1\" class=\"dataframe\">\n",
       "  <thead>\n",
       "    <tr style=\"text-align: right;\">\n",
       "      <th></th>\n",
       "      <th>MAP</th>\n",
       "      <th>NDCG</th>\n",
       "      <th>P@K</th>\n",
       "      <th>R@K</th>\n",
       "    </tr>\n",
       "  </thead>\n",
       "  <tbody>\n",
       "    <tr>\n",
       "      <th>1</th>\n",
       "      <td>0.80000</td>\n",
       "      <td>0.80000</td>\n",
       "      <td>0.80000</td>\n",
       "      <td>0.80000</td>\n",
       "    </tr>\n",
       "    <tr>\n",
       "      <th>3</th>\n",
       "      <td>0.82778</td>\n",
       "      <td>0.83770</td>\n",
       "      <td>0.28889</td>\n",
       "      <td>0.86667</td>\n",
       "    </tr>\n",
       "    <tr>\n",
       "      <th>10</th>\n",
       "      <td>0.84694</td>\n",
       "      <td>0.87546</td>\n",
       "      <td>0.09667</td>\n",
       "      <td>0.96667</td>\n",
       "    </tr>\n",
       "  </tbody>\n",
       "</table>\n",
       "</div>"
      ],
      "text/plain": [
       "        MAP     NDCG      P@K      R@K\n",
       "1   0.80000  0.80000  0.80000  0.80000\n",
       "3   0.82778  0.83770  0.28889  0.86667\n",
       "10  0.84694  0.87546  0.09667  0.96667"
      ]
     },
     "execution_count": 18,
     "metadata": {},
     "output_type": "execute_result"
    }
   ],
   "source": [
    "metrics_df = pd.DataFrame(index=k_values, columns=[\"MAP\", \"NDCG\", \"P@K\", \"R@K\"])\n",
    "\n",
    "metrics_df[\"MAP\"] = [results[1][f\"MAP@{k}\"] for k in k_values]\n",
    "metrics_df[\"NDCG\"] = [results[0][f\"NDCG@{k}\"] for k in k_values]\n",
    "metrics_df[\"P@K\"] = [results[3][f\"P@{k}\"] for k in k_values]\n",
    "metrics_df[\"R@K\"] = [results[2][f\"Recall@{k}\"] for k in k_values]\n",
    "\n",
    "metrics_df"
   ]
  },
  {
   "cell_type": "code",
   "execution_count": null,
   "metadata": {},
   "outputs": [],
   "source": []
  }
 ],
 "metadata": {
  "kernelspec": {
   "display_name": ".venv",
   "language": "python",
   "name": "python3"
  },
  "language_info": {
   "codemirror_mode": {
    "name": "ipython",
    "version": 3
   },
   "file_extension": ".py",
   "mimetype": "text/x-python",
   "name": "python",
   "nbconvert_exporter": "python",
   "pygments_lexer": "ipython3",
   "version": "3.12.4"
  }
 },
 "nbformat": 4,
 "nbformat_minor": 2
}
