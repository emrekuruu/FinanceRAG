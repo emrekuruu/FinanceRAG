{
 "cells": [
  {
   "cell_type": "code",
   "execution_count": 1,
   "metadata": {},
   "outputs": [
    {
     "name": "stderr",
     "output_type": "stream",
     "text": [
      "/Users/emrekuru/Developer/FinanceRAG/.venv/lib/python3.12/site-packages/sentence_transformers/cross_encoder/CrossEncoder.py:13: TqdmWarning: IProgress not found. Please update jupyter and ipywidgets. See https://ipywidgets.readthedocs.io/en/stable/user_install.html\n",
      "  from tqdm.autonotebook import tqdm, trange\n"
     ]
    }
   ],
   "source": [
    "import sys\n",
    "import pandas as pd\n",
    "import torch \n",
    "import os \n",
    "\n",
    "sys.path.append(\"../..\")\n",
    "# For retrieval\n",
    "\n",
    "from langchain.vectorstores import Chroma\n",
    "from langchain.embeddings import HuggingFaceEmbeddings\n",
    "from langchain.docstore.document import Document\n",
    "from sentence_transformers import CrossEncoder\n",
    "from langchain.text_splitter import RecursiveCharacterTextSplitter\n",
    "from chunkers import TableExtractor\n",
    "\n",
    "from financerag.tasks import FinQA, ConvFinQA"
   ]
  },
  {
   "cell_type": "markdown",
   "metadata": {},
   "source": [
    "## Read Data"
   ]
  },
  {
   "cell_type": "code",
   "execution_count": 2,
   "metadata": {},
   "outputs": [
    {
     "name": "stderr",
     "output_type": "stream",
     "text": [
      "A Hugging Face repository is provided. This will override the data_folder, prefix, and *_file arguments.\n"
     ]
    }
   ],
   "source": [
    "task = FinQA()"
   ]
  },
  {
   "cell_type": "code",
   "execution_count": 3,
   "metadata": {},
   "outputs": [],
   "source": [
    "queries = task.queries\n",
    "query_df = pd.DataFrame(queries.values(), index=queries.keys(), columns=[\"query\"])"
   ]
  },
  {
   "cell_type": "code",
   "execution_count": 4,
   "metadata": {},
   "outputs": [],
   "source": [
    "documents = task.corpus\n",
    "documents_df = pd.DataFrame(documents.values(), index=documents.keys(), columns=[\"title\", \"text\"])\n",
    "\n",
    "text = documents_df.iloc[120][\"text\"]\n",
    "\n",
    "with open(\"text.txt\", \"w\") as f:\n",
    "    f.write(text)"
   ]
  },
  {
   "cell_type": "code",
   "execution_count": 5,
   "metadata": {},
   "outputs": [],
   "source": [
    "def extract_paragraph(text):\n",
    "    array = text.split(\"\\n\")\n",
    "    return \"\\n\".join([i for i in array if \"|\" not in i])\n",
    "\n",
    "def extract_table(text):\n",
    "    array = text.split(\"\\n\")\n",
    "    array = [i for i in array if \"-\" in i or \"|\" in i]\n",
    "    array = [i for i in array if \"|\" in i]\n",
    "    table = \"\\n\".join(array)\n",
    "    return table.split(\"\\n\")"
   ]
  },
  {
   "cell_type": "code",
   "execution_count": 6,
   "metadata": {},
   "outputs": [],
   "source": [
    "def clean(row):\n",
    "\n",
    "    return_list = []\n",
    "\n",
    "    for cell in row:\n",
    "\n",
    "        if any(keyword in cell.strip().lower().split(\" \")for keyword in [\"(in\", \"millions\", \"thousands\", \"dollars\", \"note\", \"thousands)\", \"millions)\", \"dollars)\",\n",
    "                                                                         \"(millions), (thousands)\", \"(dollars)\", \"millions), (dollars)\", \"(unaudited)\"]):\n",
    "            continue\n",
    "\n",
    "        elif any(keyword in cell.strip().lower().split(\" \")for keyword in [\"december\",\"january\", \"february\", \"march\", \"april\", \"june\", \"july\", \"august\", \"september\", \"october\", \"november\"]):\n",
    "            matched_keywords = [keyword for keyword in cell.strip().lower().split(\" \") if keyword in [str(year) for year in range(2000, 2050)]]\n",
    "            return_list.extend(matched_keywords)\n",
    "                 \n",
    "        else:\n",
    "            return_list.append(cell)\n",
    "    \n",
    "    return return_list"
   ]
  },
  {
   "cell_type": "code",
   "execution_count": 7,
   "metadata": {},
   "outputs": [],
   "source": [
    "def isfloat(value):\n",
    "    try:\n",
    "        float(value)\n",
    "        return True\n",
    "    except ValueError:\n",
    "        return False\n",
    "\n",
    "def parse_table(table):\n",
    "\n",
    "    for row in table:\n",
    "        if \".\" == row.strip()[-1]:\n",
    "            table.remove(row)\n",
    "        \n",
    "        if \"---\" in row:\n",
    "            table.remove(row)\n",
    "\n",
    "    columns = table[0].split(\"|\")\n",
    "\n",
    "    rows = []\n",
    "\n",
    "    for row in table[1:]:\n",
    "        row = row.split(\"|\")\n",
    "        row = [ cell.strip() for cell in row  ]\n",
    "        row[1:] = clean(row[1:])\n",
    "        rows.append(row)\n",
    "\n",
    "    temp = columns.copy()\n",
    "\n",
    "    for column in columns:\n",
    "        if \"$\" in column:\n",
    "            column = column.replace(\"$\", \"\")\n",
    "            if isfloat(column.strip()) or column.strip().isdigit():\n",
    "                columns = [\"Column \" + str(i) for i in range(1, len(columns)+1)]\n",
    "                rows = [temp] + rows\n",
    "\n",
    "        elif (isfloat(column.strip()) or column.strip().isdigit()) and int(column.strip()) not in range(2000, 2050):\n",
    "            columns = [\"Column \" + str(i) for i in range(1, len(columns)+1)]\n",
    "            rows = [temp] + rows\n",
    "            \n",
    "    table = pd.DataFrame(rows, columns=columns)\n",
    "    table.set_index(columns[0], inplace=True)\n",
    "    \n",
    "    return table"
   ]
  },
  {
   "cell_type": "code",
   "execution_count": 12,
   "metadata": {},
   "outputs": [
    {
     "name": "stdout",
     "output_type": "stream",
     "text": [
      "d61ea0b7a\n",
      "2 columns passed, passed data had 5 columns\n",
      "d61de83e0\n",
      "2 columns passed, passed data had 3 columns\n",
      "d61d02d2c\n",
      "5 columns passed, passed data had 3 columns\n"
     ]
    }
   ],
   "source": [
    "document_tables = {}\n",
    "\n",
    "for id, text in documents_df.text.items():\n",
    "    try:\n",
    "        try:\n",
    "            table = extract_table(text)\n",
    "            table = parse_table(table)\n",
    "            document_tables[id] = table\n",
    "        except:\n",
    "            table = extract_table(text)\n",
    "            table = parse_table(table[:-1])\n",
    "            document_tables[id] = table\n",
    "    except Exception as e:\n",
    "        print(id)\n",
    "        print(e)"
   ]
  },
  {
   "cell_type": "markdown",
   "metadata": {},
   "source": [
    "## Initiliaze Database"
   ]
  },
  {
   "cell_type": "code",
   "execution_count": null,
   "metadata": {},
   "outputs": [],
   "source": []
  }
 ],
 "metadata": {
  "kernelspec": {
   "display_name": ".venv",
   "language": "python",
   "name": "python3"
  },
  "language_info": {
   "codemirror_mode": {
    "name": "ipython",
    "version": 3
   },
   "file_extension": ".py",
   "mimetype": "text/x-python",
   "name": "python",
   "nbconvert_exporter": "python",
   "pygments_lexer": "ipython3",
   "version": "3.12.4"
  }
 },
 "nbformat": 4,
 "nbformat_minor": 2
}
